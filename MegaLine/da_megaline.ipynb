{
  "cells": [
    {
      "cell_type": "markdown",
      "metadata": {
        "id": "3rYiDeEH0q0f"
      },
      "source": [
        "# ¿Cuál es la mejor tarifa?\n",
        "\n",
        "Trabajas como analista para el operador de telecomunicaciones Megaline. La empresa ofrece a sus clientes dos tarifas de prepago, Surf y Ultimate. El departamento comercial quiere saber cuál de las tarifas genera más ingresos para poder ajustar el presupuesto de publicidad.\n",
        "\n",
        "Vas a realizar un análisis preliminar de las tarifas basado en una selección de clientes relativamente pequeña. Tendrás los datos de 500 clientes de Megaline: quiénes son los clientes, de dónde son, qué tarifa usan, así como la cantidad de llamadas que hicieron y los mensajes de texto que enviaron en 2018. Tu trabajo es analizar el comportamiento de los clientes y determinar qué tarifa de prepago genera más ingresos."
      ]
    },
    {
      "cell_type": "markdown",
      "metadata": {
        "id": "VNddPNRQ0q0w"
      },
      "source": [
        "**Objetivo del proyecto:**  \n",
        "El desarrollo de este proyecto tiene como propósito determinar con evidencia estadística cuál de los dos planes de telefonía ('surf' y 'ultimate') aporta, en promedio, mayores ingresos a la compañía operadora de telecomunicaciones Megaline. Para esto, en primer lugar realizamos una revisión general de los datos con el fin de determinar si nos hace falta información o si es necesario un tratamiento previo. Seguiremos con la evaluación y análisis de los comportamientos de los usuarios alrededor de los tres servicios que ofrecen los planes de telefonía (llamadas, mensajes e internet). Con los resultados del proceso anterior, determinaremos los ingresos mensuales de los usuarios de cada plan. Con esta información procederemos a realizar pruebas estadísticas que respalden nuestras conclusiones respecto a cuál plan es más rentable.\n"
      ]
    },
    {
      "cell_type": "markdown",
      "metadata": {
        "id": "MQi4IPy70q0y"
      },
      "source": [
        "## Inicialización"
      ]
    },
    {
      "cell_type": "code",
      "execution_count": 8,
      "metadata": {
        "id": "MtYIuBxu0q0z"
      },
      "outputs": [],
      "source": [
        "# Cargar todas las librerías\n",
        "import pandas as pd\n",
        "from matplotlib import pyplot as plt\n",
        "import numpy as np\n",
        "from scipy import stats as st\n",
        "import seaborn as sns"
      ]
    },
    {
      "cell_type": "markdown",
      "metadata": {
        "id": "4ysWWC5i0q00"
      },
      "source": [
        "## Cargar datos"
      ]
    },
    {
      "cell_type": "code",
      "execution_count": 9,
      "metadata": {
        "id": "CCqPW7rS0q01"
      },
      "outputs": [],
      "source": [
        "# Carga los archivos de datos en diferentes DataFrames\n",
        "#Lecturas de los archivos \".csv\" para crear los respectivos dataframes\n",
        "calls=pd.read_csv(\"dataset/megaline_calls.csv\")\n",
        "internet=pd.read_csv(\"dataset/megaline_internet.csv\")\n",
        "messages=pd.read_csv(\"dataset/megaline_messages.csv\")\n",
        "plans=pd.read_csv(\"dataset/megaline_plans.csv\")\n",
        "users=pd.read_csv(\"dataset/megaline_users.csv\")"
      ]
    },
    {
      "cell_type": "markdown",
      "metadata": {
        "id": "69qqoJ3r0q01"
      },
      "source": [
        "## Preparar los datos"
      ]
    },
    {
      "cell_type": "markdown",
      "metadata": {
        "id": "vUuZw80S0q01"
      },
      "source": [
        "A continuación vamos a revisar la descripción general de los dataframes generados a partir de los archivos \".csv\" y observaremos la estructura de cada uno mediante un muestreo usando el método \".sample()\". Determinaremos si los nombres de las columnas siguen la regla *snake_case*, la existencia de valores ausentes, así como de valores duplicados. Evaluaremos que pre-tratamiento es necesario para facilitar el manejo de la información a futuro, como por ejemplo, cambiar el tipo de dato de alguna columna."
      ]
    },
    {
      "cell_type": "markdown",
      "metadata": {
        "id": "ohBhimvH0q01"
      },
      "source": [
        "## Tarifas"
      ]
    },
    {
      "cell_type": "code",
      "execution_count": 10,
      "metadata": {
        "colab": {
          "base_uri": "https://localhost:8080/"
        },
        "id": "GptqP3Q40q02",
        "outputId": "5fdf1f47-02b3-4017-f89b-4deb63c3811b"
      },
      "outputs": [
        {
          "name": "stdout",
          "output_type": "stream",
          "text": [
            "<class 'pandas.core.frame.DataFrame'>\n",
            "RangeIndex: 2 entries, 0 to 1\n",
            "Data columns (total 8 columns):\n",
            " #   Column                 Non-Null Count  Dtype  \n",
            "---  ------                 --------------  -----  \n",
            " 0   messages_included      2 non-null      int64  \n",
            " 1   mb_per_month_included  2 non-null      int64  \n",
            " 2   minutes_included       2 non-null      int64  \n",
            " 3   usd_monthly_pay        2 non-null      int64  \n",
            " 4   usd_per_gb             2 non-null      int64  \n",
            " 5   usd_per_message        2 non-null      float64\n",
            " 6   usd_per_minute         2 non-null      float64\n",
            " 7   plan_name              2 non-null      object \n",
            "dtypes: float64(2), int64(5), object(1)\n",
            "memory usage: 260.0+ bytes\n"
          ]
        }
      ],
      "source": [
        "# Imprime la información general/resumida sobre el DataFrame de las tarifas\n",
        "#Se utiliza el método \".info()\" para obtener la información general del dataframe\n",
        "plans.info()\n",
        "#No se observan valores ausentes"
      ]
    },
    {
      "cell_type": "code",
      "execution_count": 11,
      "metadata": {
        "colab": {
          "base_uri": "https://localhost:8080/",
          "height": 132
        },
        "id": "64xzjwL70q02",
        "outputId": "649b0e3c-1cdc-4136-a751-c29a31c6a487"
      },
      "outputs": [
        {
          "data": {
            "text/html": [
              "<div>\n",
              "<style scoped>\n",
              "    .dataframe tbody tr th:only-of-type {\n",
              "        vertical-align: middle;\n",
              "    }\n",
              "\n",
              "    .dataframe tbody tr th {\n",
              "        vertical-align: top;\n",
              "    }\n",
              "\n",
              "    .dataframe thead th {\n",
              "        text-align: right;\n",
              "    }\n",
              "</style>\n",
              "<table border=\"1\" class=\"dataframe\">\n",
              "  <thead>\n",
              "    <tr style=\"text-align: right;\">\n",
              "      <th></th>\n",
              "      <th>messages_included</th>\n",
              "      <th>mb_per_month_included</th>\n",
              "      <th>minutes_included</th>\n",
              "      <th>usd_monthly_pay</th>\n",
              "      <th>usd_per_gb</th>\n",
              "      <th>usd_per_message</th>\n",
              "      <th>usd_per_minute</th>\n",
              "      <th>plan_name</th>\n",
              "    </tr>\n",
              "  </thead>\n",
              "  <tbody>\n",
              "    <tr>\n",
              "      <th>0</th>\n",
              "      <td>50</td>\n",
              "      <td>15360</td>\n",
              "      <td>500</td>\n",
              "      <td>20</td>\n",
              "      <td>10</td>\n",
              "      <td>0.03</td>\n",
              "      <td>0.03</td>\n",
              "      <td>surf</td>\n",
              "    </tr>\n",
              "    <tr>\n",
              "      <th>1</th>\n",
              "      <td>1000</td>\n",
              "      <td>30720</td>\n",
              "      <td>3000</td>\n",
              "      <td>70</td>\n",
              "      <td>7</td>\n",
              "      <td>0.01</td>\n",
              "      <td>0.01</td>\n",
              "      <td>ultimate</td>\n",
              "    </tr>\n",
              "  </tbody>\n",
              "</table>\n",
              "</div>"
            ],
            "text/plain": [
              "   messages_included  mb_per_month_included  minutes_included  \\\n",
              "0                 50                  15360               500   \n",
              "1               1000                  30720              3000   \n",
              "\n",
              "   usd_monthly_pay  usd_per_gb  usd_per_message  usd_per_minute plan_name  \n",
              "0               20          10             0.03            0.03      surf  \n",
              "1               70           7             0.01            0.01  ultimate  "
            ]
          },
          "execution_count": 11,
          "metadata": {},
          "output_type": "execute_result"
        }
      ],
      "source": [
        "# Imprime una muestra de los datos para las tarifas\n",
        "#Solo existen dos registros en este dataframe. Uno por cada plan de telefonía disponible\n",
        "#Se genera una muestra de los registros del dataframe con el método \".head()\"\n",
        "plans.head()\n",
        "#Los nombres de las columnas siguen la regla \"snake_case\""
      ]
    },
    {
      "cell_type": "markdown",
      "metadata": {
        "id": "mEc_3_hs0q02"
      },
      "source": [
        "En este dataframe solo existen dos registros. Un registro por cada plan de telefonía disponible con Megaline. En la información se observa que los nombres de la columnas siguen la regla *snake_case*. No se considera necesario modificar los tipos de datos. En este caso, es posible verificar que no existen valores ausentes ni datos duplicados."
      ]
    },
    {
      "cell_type": "markdown",
      "metadata": {
        "collapsed": false,
        "id": "R3C05i1l0q03",
        "jupyter": {
          "outputs_hidden": false
        }
      },
      "source": [
        "## Corregir datos"
      ]
    },
    {
      "cell_type": "code",
      "execution_count": 12,
      "metadata": {
        "colab": {
          "base_uri": "https://localhost:8080/"
        },
        "id": "Y7SVmjGn0q03",
        "outputId": "0fa275f3-1e8d-4b2c-d8cd-e3294e1da1e6"
      },
      "outputs": [
        {
          "data": {
            "text/plain": [
              "np.int64(0)"
            ]
          },
          "execution_count": 12,
          "metadata": {},
          "output_type": "execute_result"
        }
      ],
      "source": [
        "#Mediante el método \".duplicated()\" se verifica que no hay duplicados\n",
        "plans.duplicated().sum()"
      ]
    },
    {
      "cell_type": "code",
      "execution_count": 13,
      "metadata": {
        "colab": {
          "base_uri": "https://localhost:8080/",
          "height": 335
        },
        "id": "n6_2GaUBoF6Q",
        "outputId": "fa322093-0203-459b-89a5-34251f8fcd97"
      },
      "outputs": [
        {
          "data": {
            "text/plain": [
              "messages_included        0\n",
              "mb_per_month_included    0\n",
              "minutes_included         0\n",
              "usd_monthly_pay          0\n",
              "usd_per_gb               0\n",
              "usd_per_message          0\n",
              "usd_per_minute           0\n",
              "plan_name                0\n",
              "dtype: int64"
            ]
          },
          "execution_count": 13,
          "metadata": {},
          "output_type": "execute_result"
        }
      ],
      "source": [
        "#Mediante el método \".isna()\" se verifica que no hay valores ausentes\n",
        "plans.isna().sum()"
      ]
    },
    {
      "cell_type": "markdown",
      "metadata": {
        "id": "LJir7bml0q03"
      },
      "source": [
        "## Enriquecer los datos"
      ]
    },
    {
      "cell_type": "code",
      "execution_count": 14,
      "metadata": {
        "id": "gfcIEuXV0q04"
      },
      "outputs": [],
      "source": [
        "#No se considera necesario ejecutar ninguna acción adicional sobre este dataframe hasta este punto"
      ]
    },
    {
      "cell_type": "markdown",
      "metadata": {
        "id": "1n2X6WXf0q04"
      },
      "source": [
        "## Usuarios/as"
      ]
    },
    {
      "cell_type": "code",
      "execution_count": 15,
      "metadata": {
        "colab": {
          "base_uri": "https://localhost:8080/"
        },
        "id": "2NgjWFqx0q05",
        "outputId": "f23589e5-6881-4996-bc61-9f670c800bae"
      },
      "outputs": [
        {
          "name": "stdout",
          "output_type": "stream",
          "text": [
            "<class 'pandas.core.frame.DataFrame'>\n",
            "RangeIndex: 500 entries, 0 to 499\n",
            "Data columns (total 8 columns):\n",
            " #   Column      Non-Null Count  Dtype \n",
            "---  ------      --------------  ----- \n",
            " 0   user_id     500 non-null    int64 \n",
            " 1   first_name  500 non-null    object\n",
            " 2   last_name   500 non-null    object\n",
            " 3   age         500 non-null    int64 \n",
            " 4   city        500 non-null    object\n",
            " 5   reg_date    500 non-null    object\n",
            " 6   plan        500 non-null    object\n",
            " 7   churn_date  34 non-null     object\n",
            "dtypes: int64(2), object(6)\n",
            "memory usage: 31.4+ KB\n"
          ]
        }
      ],
      "source": [
        "# Imprime la información general/resumida sobre el DataFrame de usuarios\n",
        "#Se utiliza el método \".info()\" para obtener la información general del dataframe\n",
        "users.info()\n",
        "#Hay valores ausentes en la columna \"churn_date\"\n",
        "#Los nombres de las columnas siguen la regla \"snake_case\""
      ]
    },
    {
      "cell_type": "code",
      "execution_count": 16,
      "metadata": {
        "colab": {
          "base_uri": "https://localhost:8080/",
          "height": 536
        },
        "id": "1IN1L9uh0q05",
        "outputId": "968d7912-66ae-4f0d-ba29-a5151062536d"
      },
      "outputs": [
        {
          "data": {
            "text/html": [
              "<div>\n",
              "<style scoped>\n",
              "    .dataframe tbody tr th:only-of-type {\n",
              "        vertical-align: middle;\n",
              "    }\n",
              "\n",
              "    .dataframe tbody tr th {\n",
              "        vertical-align: top;\n",
              "    }\n",
              "\n",
              "    .dataframe thead th {\n",
              "        text-align: right;\n",
              "    }\n",
              "</style>\n",
              "<table border=\"1\" class=\"dataframe\">\n",
              "  <thead>\n",
              "    <tr style=\"text-align: right;\">\n",
              "      <th></th>\n",
              "      <th>user_id</th>\n",
              "      <th>first_name</th>\n",
              "      <th>last_name</th>\n",
              "      <th>age</th>\n",
              "      <th>city</th>\n",
              "      <th>reg_date</th>\n",
              "      <th>plan</th>\n",
              "      <th>churn_date</th>\n",
              "    </tr>\n",
              "  </thead>\n",
              "  <tbody>\n",
              "    <tr>\n",
              "      <th>154</th>\n",
              "      <td>1154</td>\n",
              "      <td>Humberto</td>\n",
              "      <td>Pruitt</td>\n",
              "      <td>53</td>\n",
              "      <td>Nashville-Davidson–Murfreesboro–Franklin, TN MSA</td>\n",
              "      <td>2018-07-18</td>\n",
              "      <td>ultimate</td>\n",
              "      <td>NaN</td>\n",
              "    </tr>\n",
              "    <tr>\n",
              "      <th>437</th>\n",
              "      <td>1437</td>\n",
              "      <td>Louis</td>\n",
              "      <td>Neal</td>\n",
              "      <td>42</td>\n",
              "      <td>Dallas-Fort Worth-Arlington, TX MSA</td>\n",
              "      <td>2018-11-12</td>\n",
              "      <td>surf</td>\n",
              "      <td>NaN</td>\n",
              "    </tr>\n",
              "    <tr>\n",
              "      <th>483</th>\n",
              "      <td>1483</td>\n",
              "      <td>Miguel</td>\n",
              "      <td>Farrell</td>\n",
              "      <td>35</td>\n",
              "      <td>Chicago-Naperville-Elgin, IL-IN-WI MSA</td>\n",
              "      <td>2018-04-25</td>\n",
              "      <td>surf</td>\n",
              "      <td>NaN</td>\n",
              "    </tr>\n",
              "    <tr>\n",
              "      <th>196</th>\n",
              "      <td>1196</td>\n",
              "      <td>Noel</td>\n",
              "      <td>Dawson</td>\n",
              "      <td>46</td>\n",
              "      <td>Los Angeles-Long Beach-Anaheim, CA MSA</td>\n",
              "      <td>2018-01-14</td>\n",
              "      <td>ultimate</td>\n",
              "      <td>NaN</td>\n",
              "    </tr>\n",
              "    <tr>\n",
              "      <th>288</th>\n",
              "      <td>1288</td>\n",
              "      <td>Jenette</td>\n",
              "      <td>Rush</td>\n",
              "      <td>60</td>\n",
              "      <td>Las Vegas-Henderson-Paradise, NV MSA</td>\n",
              "      <td>2018-07-18</td>\n",
              "      <td>surf</td>\n",
              "      <td>NaN</td>\n",
              "    </tr>\n",
              "    <tr>\n",
              "      <th>451</th>\n",
              "      <td>1451</td>\n",
              "      <td>Lenard</td>\n",
              "      <td>Harding</td>\n",
              "      <td>53</td>\n",
              "      <td>Charlotte-Concord-Gastonia, NC-SC MSA</td>\n",
              "      <td>2018-02-15</td>\n",
              "      <td>ultimate</td>\n",
              "      <td>2018-12-10</td>\n",
              "    </tr>\n",
              "    <tr>\n",
              "      <th>445</th>\n",
              "      <td>1445</td>\n",
              "      <td>Elodia</td>\n",
              "      <td>Donovan</td>\n",
              "      <td>71</td>\n",
              "      <td>Dallas-Fort Worth-Arlington, TX MSA</td>\n",
              "      <td>2018-01-27</td>\n",
              "      <td>ultimate</td>\n",
              "      <td>NaN</td>\n",
              "    </tr>\n",
              "    <tr>\n",
              "      <th>247</th>\n",
              "      <td>1247</td>\n",
              "      <td>Marion</td>\n",
              "      <td>Singleton</td>\n",
              "      <td>75</td>\n",
              "      <td>Los Angeles-Long Beach-Anaheim, CA MSA</td>\n",
              "      <td>2018-04-12</td>\n",
              "      <td>ultimate</td>\n",
              "      <td>NaN</td>\n",
              "    </tr>\n",
              "    <tr>\n",
              "      <th>359</th>\n",
              "      <td>1359</td>\n",
              "      <td>Sherley</td>\n",
              "      <td>Norris</td>\n",
              "      <td>33</td>\n",
              "      <td>Colorado Springs, CO MSA</td>\n",
              "      <td>2018-02-08</td>\n",
              "      <td>surf</td>\n",
              "      <td>NaN</td>\n",
              "    </tr>\n",
              "    <tr>\n",
              "      <th>327</th>\n",
              "      <td>1327</td>\n",
              "      <td>Natosha</td>\n",
              "      <td>Peck</td>\n",
              "      <td>20</td>\n",
              "      <td>New York-Newark-Jersey City, NY-NJ-PA MSA</td>\n",
              "      <td>2018-02-17</td>\n",
              "      <td>surf</td>\n",
              "      <td>NaN</td>\n",
              "    </tr>\n",
              "  </tbody>\n",
              "</table>\n",
              "</div>"
            ],
            "text/plain": [
              "     user_id first_name  last_name  age  \\\n",
              "154     1154   Humberto     Pruitt   53   \n",
              "437     1437      Louis       Neal   42   \n",
              "483     1483     Miguel    Farrell   35   \n",
              "196     1196       Noel     Dawson   46   \n",
              "288     1288    Jenette       Rush   60   \n",
              "451     1451     Lenard    Harding   53   \n",
              "445     1445     Elodia    Donovan   71   \n",
              "247     1247     Marion  Singleton   75   \n",
              "359     1359    Sherley     Norris   33   \n",
              "327     1327    Natosha       Peck   20   \n",
              "\n",
              "                                                 city    reg_date      plan  \\\n",
              "154  Nashville-Davidson–Murfreesboro–Franklin, TN MSA  2018-07-18  ultimate   \n",
              "437               Dallas-Fort Worth-Arlington, TX MSA  2018-11-12      surf   \n",
              "483            Chicago-Naperville-Elgin, IL-IN-WI MSA  2018-04-25      surf   \n",
              "196            Los Angeles-Long Beach-Anaheim, CA MSA  2018-01-14  ultimate   \n",
              "288              Las Vegas-Henderson-Paradise, NV MSA  2018-07-18      surf   \n",
              "451             Charlotte-Concord-Gastonia, NC-SC MSA  2018-02-15  ultimate   \n",
              "445               Dallas-Fort Worth-Arlington, TX MSA  2018-01-27  ultimate   \n",
              "247            Los Angeles-Long Beach-Anaheim, CA MSA  2018-04-12  ultimate   \n",
              "359                          Colorado Springs, CO MSA  2018-02-08      surf   \n",
              "327         New York-Newark-Jersey City, NY-NJ-PA MSA  2018-02-17      surf   \n",
              "\n",
              "     churn_date  \n",
              "154         NaN  \n",
              "437         NaN  \n",
              "483         NaN  \n",
              "196         NaN  \n",
              "288         NaN  \n",
              "451  2018-12-10  \n",
              "445         NaN  \n",
              "247         NaN  \n",
              "359         NaN  \n",
              "327         NaN  "
            ]
          },
          "execution_count": 16,
          "metadata": {},
          "output_type": "execute_result"
        }
      ],
      "source": [
        "# Imprime una muestra de datos para usuarios\n",
        "#Se genera una muestra de los registros del dataframe con el método \".sample()\"\n",
        "users.sample(10)"
      ]
    },
    {
      "cell_type": "markdown",
      "metadata": {
        "id": "dCZoUq4f0q06"
      },
      "source": [
        "Se observa que los nombres de la columnas siguen la regla *snake_case*. Para la columna \"reg_date\" se considera necesario cambiar el tipo de dato a *datetime*. Se puede observar que existen valores ausentes en la columna \"churn_date\", estos indican específicamente que el usuario tiene un plan activo con Megaline. Se podría plantear la opción de separar la información contenida en la columna \"city\" o extraer en otra columna el indicador del área a la que pertenece el usuario para facilitar la identificación o división de los datos por regiones. Se verificará que no existan registros duplicados."
      ]
    },
    {
      "cell_type": "markdown",
      "metadata": {
        "id": "BX5FQh_I0q06"
      },
      "source": [
        "### Corregir los datos"
      ]
    },
    {
      "cell_type": "code",
      "execution_count": 17,
      "metadata": {
        "colab": {
          "base_uri": "https://localhost:8080/"
        },
        "id": "yUqX-K0C0q07",
        "outputId": "65fa33ef-4b09-43e1-98a4-80c3f9ccadea"
      },
      "outputs": [
        {
          "data": {
            "text/plain": [
              "np.int64(0)"
            ]
          },
          "execution_count": 17,
          "metadata": {},
          "output_type": "execute_result"
        }
      ],
      "source": [
        "#Mediante el método \".duplicated()\" se verifica que no hay duplicados\n",
        "users.duplicated().sum()"
      ]
    },
    {
      "cell_type": "code",
      "execution_count": 18,
      "metadata": {
        "colab": {
          "base_uri": "https://localhost:8080/"
        },
        "id": "jODp2bG8o81w",
        "outputId": "3c5e5330-d565-44aa-e00d-7a341e1d6cc1"
      },
      "outputs": [
        {
          "data": {
            "text/plain": [
              "np.int64(0)"
            ]
          },
          "execution_count": 18,
          "metadata": {},
          "output_type": "execute_result"
        }
      ],
      "source": [
        "#Se verifica que no hayan duplicados implícitos bajo el mismo id\n",
        "users[\"user_id\"].duplicated().sum()"
      ]
    },
    {
      "cell_type": "code",
      "execution_count": 19,
      "metadata": {
        "colab": {
          "base_uri": "https://localhost:8080/"
        },
        "id": "5QRIKbDPo-gx",
        "outputId": "ed3326ac-09b9-413b-d1f1-1d1ec7aeabad"
      },
      "outputs": [
        {
          "data": {
            "text/plain": [
              "np.int64(466)"
            ]
          },
          "execution_count": 19,
          "metadata": {},
          "output_type": "execute_result"
        }
      ],
      "source": [
        "#Mediante el método \".isna()\" se verifica que hay valores ausentes en la columna \"churn_date\"\n",
        "users[\"churn_date\"].isna().sum()"
      ]
    },
    {
      "cell_type": "code",
      "execution_count": 20,
      "metadata": {
        "id": "gYZ4c2YDpAII"
      },
      "outputs": [],
      "source": [
        "#La columna con información de fechas se convierte al tipo datetime\n",
        "users[\"reg_date\"]=pd.to_datetime(users[\"reg_date\"], format=\"%Y-%m-%d\")"
      ]
    },
    {
      "cell_type": "markdown",
      "metadata": {
        "id": "ycwuARJp0q07"
      },
      "source": [
        "### Enriquecer los datos"
      ]
    },
    {
      "cell_type": "code",
      "execution_count": 21,
      "metadata": {
        "id": "iq0AaBS90q08"
      },
      "outputs": [],
      "source": [
        "#No se considera necesario ejecutar ninguna acción adicional sobre este dataframe hasta este punto"
      ]
    },
    {
      "cell_type": "markdown",
      "metadata": {
        "id": "o7MeKCid0q08"
      },
      "source": [
        "## Llamadas"
      ]
    },
    {
      "cell_type": "code",
      "execution_count": 22,
      "metadata": {
        "colab": {
          "base_uri": "https://localhost:8080/"
        },
        "id": "6dDlnoDm0q08",
        "outputId": "5203e4c6-24f0-4621-d8c3-27d7d928791d"
      },
      "outputs": [
        {
          "name": "stdout",
          "output_type": "stream",
          "text": [
            "<class 'pandas.core.frame.DataFrame'>\n",
            "RangeIndex: 137735 entries, 0 to 137734\n",
            "Data columns (total 4 columns):\n",
            " #   Column     Non-Null Count   Dtype  \n",
            "---  ------     --------------   -----  \n",
            " 0   id         137735 non-null  object \n",
            " 1   user_id    137735 non-null  int64  \n",
            " 2   call_date  137735 non-null  object \n",
            " 3   duration   137735 non-null  float64\n",
            "dtypes: float64(1), int64(1), object(2)\n",
            "memory usage: 4.2+ MB\n"
          ]
        }
      ],
      "source": [
        "# Imprime la información general/resumida sobre el DataFrame de las llamadas\n",
        "#Se utiliza el método \".info()\" para obtener la información general del dataframe\n",
        "calls.info()\n",
        "#No se observan valores ausentes\n",
        "#Los nombres de las columnas siguen la regla \"snake_case\""
      ]
    },
    {
      "cell_type": "code",
      "execution_count": 23,
      "metadata": {
        "colab": {
          "base_uri": "https://localhost:8080/",
          "height": 363
        },
        "id": "kuh1vlNB0q09",
        "outputId": "203d7300-1ee7-4f67-a1cc-98ae88c8c7f9"
      },
      "outputs": [
        {
          "data": {
            "text/html": [
              "<div>\n",
              "<style scoped>\n",
              "    .dataframe tbody tr th:only-of-type {\n",
              "        vertical-align: middle;\n",
              "    }\n",
              "\n",
              "    .dataframe tbody tr th {\n",
              "        vertical-align: top;\n",
              "    }\n",
              "\n",
              "    .dataframe thead th {\n",
              "        text-align: right;\n",
              "    }\n",
              "</style>\n",
              "<table border=\"1\" class=\"dataframe\">\n",
              "  <thead>\n",
              "    <tr style=\"text-align: right;\">\n",
              "      <th></th>\n",
              "      <th>id</th>\n",
              "      <th>user_id</th>\n",
              "      <th>call_date</th>\n",
              "      <th>duration</th>\n",
              "    </tr>\n",
              "  </thead>\n",
              "  <tbody>\n",
              "    <tr>\n",
              "      <th>30280</th>\n",
              "      <td>1113_643</td>\n",
              "      <td>1113</td>\n",
              "      <td>2018-11-19</td>\n",
              "      <td>0.00</td>\n",
              "    </tr>\n",
              "    <tr>\n",
              "      <th>35211</th>\n",
              "      <td>1132_620</td>\n",
              "      <td>1132</td>\n",
              "      <td>2018-10-01</td>\n",
              "      <td>0.00</td>\n",
              "    </tr>\n",
              "    <tr>\n",
              "      <th>65837</th>\n",
              "      <td>1238_48</td>\n",
              "      <td>1238</td>\n",
              "      <td>2018-12-02</td>\n",
              "      <td>15.82</td>\n",
              "    </tr>\n",
              "    <tr>\n",
              "      <th>16817</th>\n",
              "      <td>1065_185</td>\n",
              "      <td>1065</td>\n",
              "      <td>2018-12-21</td>\n",
              "      <td>7.31</td>\n",
              "    </tr>\n",
              "    <tr>\n",
              "      <th>16147</th>\n",
              "      <td>1064_5</td>\n",
              "      <td>1064</td>\n",
              "      <td>2018-07-17</td>\n",
              "      <td>12.98</td>\n",
              "    </tr>\n",
              "    <tr>\n",
              "      <th>30447</th>\n",
              "      <td>1114_252</td>\n",
              "      <td>1114</td>\n",
              "      <td>2018-09-10</td>\n",
              "      <td>6.23</td>\n",
              "    </tr>\n",
              "    <tr>\n",
              "      <th>74294</th>\n",
              "      <td>1263_278</td>\n",
              "      <td>1263</td>\n",
              "      <td>2018-03-21</td>\n",
              "      <td>0.00</td>\n",
              "    </tr>\n",
              "    <tr>\n",
              "      <th>64193</th>\n",
              "      <td>1232_494</td>\n",
              "      <td>1232</td>\n",
              "      <td>2018-08-08</td>\n",
              "      <td>7.16</td>\n",
              "    </tr>\n",
              "    <tr>\n",
              "      <th>13594</th>\n",
              "      <td>1057_473</td>\n",
              "      <td>1057</td>\n",
              "      <td>2018-11-27</td>\n",
              "      <td>0.00</td>\n",
              "    </tr>\n",
              "    <tr>\n",
              "      <th>124957</th>\n",
              "      <td>1440_473</td>\n",
              "      <td>1440</td>\n",
              "      <td>2018-06-17</td>\n",
              "      <td>1.77</td>\n",
              "    </tr>\n",
              "  </tbody>\n",
              "</table>\n",
              "</div>"
            ],
            "text/plain": [
              "              id  user_id   call_date  duration\n",
              "30280   1113_643     1113  2018-11-19      0.00\n",
              "35211   1132_620     1132  2018-10-01      0.00\n",
              "65837    1238_48     1238  2018-12-02     15.82\n",
              "16817   1065_185     1065  2018-12-21      7.31\n",
              "16147     1064_5     1064  2018-07-17     12.98\n",
              "30447   1114_252     1114  2018-09-10      6.23\n",
              "74294   1263_278     1263  2018-03-21      0.00\n",
              "64193   1232_494     1232  2018-08-08      7.16\n",
              "13594   1057_473     1057  2018-11-27      0.00\n",
              "124957  1440_473     1440  2018-06-17      1.77"
            ]
          },
          "execution_count": 23,
          "metadata": {},
          "output_type": "execute_result"
        }
      ],
      "source": [
        "# Imprime una muestra de datos para las llamadas\n",
        "#Se genera una muestra de los registros del dataframe con el método \".sample()\"\n",
        "calls.sample(10)"
      ]
    },
    {
      "cell_type": "markdown",
      "metadata": {
        "id": "DOAxYJSx0q09"
      },
      "source": [
        "En la información se observa que los nombres de la columnas siguen la regla *snake_case*. Para la columna \"call_date\" se considera necesario cambiar el tipo de dato a *datetime*. Se puede observar que no existen valores ausentes. Se verificará que no existan registros duplicados."
      ]
    },
    {
      "cell_type": "markdown",
      "metadata": {
        "id": "S7hzxmbX0q0-"
      },
      "source": [
        "### Corregir los datos"
      ]
    },
    {
      "cell_type": "code",
      "execution_count": 24,
      "metadata": {
        "colab": {
          "base_uri": "https://localhost:8080/"
        },
        "id": "S2r8xA4f0q0-",
        "outputId": "623affb0-d4da-42c0-91b7-37347dee47d9"
      },
      "outputs": [
        {
          "data": {
            "text/plain": [
              "np.int64(0)"
            ]
          },
          "execution_count": 24,
          "metadata": {},
          "output_type": "execute_result"
        }
      ],
      "source": [
        "#Mediante el método \".duplicated()\" se verifica que no hay duplicados\n",
        "calls.duplicated().sum()"
      ]
    },
    {
      "cell_type": "code",
      "execution_count": 25,
      "metadata": {
        "colab": {
          "base_uri": "https://localhost:8080/"
        },
        "id": "baSrBtwmpUGg",
        "outputId": "bc60655b-4f06-466e-b906-bc86de8c9dc5"
      },
      "outputs": [
        {
          "data": {
            "text/plain": [
              "np.int64(0)"
            ]
          },
          "execution_count": 25,
          "metadata": {},
          "output_type": "execute_result"
        }
      ],
      "source": [
        "#Se verifica que no hayan duplicados implícitos bajo el mismo id\n",
        "calls[\"id\"].duplicated().sum()"
      ]
    },
    {
      "cell_type": "code",
      "execution_count": 26,
      "metadata": {
        "colab": {
          "base_uri": "https://localhost:8080/",
          "height": 209
        },
        "id": "WUZ5HsagpVwc",
        "outputId": "f2789bb2-dc5a-4e24-d7eb-cf6b3447ec6c"
      },
      "outputs": [
        {
          "data": {
            "text/plain": [
              "id           0\n",
              "user_id      0\n",
              "call_date    0\n",
              "duration     0\n",
              "dtype: int64"
            ]
          },
          "execution_count": 26,
          "metadata": {},
          "output_type": "execute_result"
        }
      ],
      "source": [
        "#Mediante el método \".isna()\" se verifica que no hay valores ausentes\n",
        "calls.isna().sum()"
      ]
    },
    {
      "cell_type": "code",
      "execution_count": 27,
      "metadata": {
        "id": "swPcMUWepXPk"
      },
      "outputs": [],
      "source": [
        "#La columna con información de fechas se convierte al tipo datetime\n",
        "calls[\"call_date\"]=pd.to_datetime(calls[\"call_date\"], format=\"%Y-%m-%d\")"
      ]
    },
    {
      "cell_type": "markdown",
      "metadata": {
        "id": "KrMgTrlG0q0_"
      },
      "source": [
        "### Enriquecer los datos"
      ]
    },
    {
      "cell_type": "markdown",
      "metadata": {
        "id": "a9MbmEvE0q0_"
      },
      "source": [
        "Para evaluar estadísticas de las llamadas para los meses del año 2018, creamos una columna adicional que indica el mes de la actividad del usuario. En este caso, fue útil convertir el tipo de dato a *datetime* dado que podemos extraer fácilmente el número del mes de la fecha. Adicionalmente, procedemos a redondear los segundos a minutos en la columna \"duration\" para cada registro de llamada, siguiendo la política del plan de telefonía de Megaline."
      ]
    },
    {
      "cell_type": "code",
      "execution_count": 28,
      "metadata": {
        "id": "iZ1avpA_0q0_"
      },
      "outputs": [],
      "source": [
        "#Se crea una columna con el mes en el que el usuario realiza una llamada\n",
        "calls[\"month\"]=calls[\"call_date\"].dt.month\n",
        "#Se redondea la duración de cada llamada al entero inmediatamente mayor mediante la función \"np.ceil()\".\n",
        "calls[\"duration\"]=np.ceil(calls[\"duration\"])"
      ]
    },
    {
      "cell_type": "markdown",
      "metadata": {
        "id": "mOUZSi180q0_"
      },
      "source": [
        "## Mensajes"
      ]
    },
    {
      "cell_type": "code",
      "execution_count": 29,
      "metadata": {
        "colab": {
          "base_uri": "https://localhost:8080/"
        },
        "id": "R-bYJpdV0q1A",
        "outputId": "e820b8c6-5b78-46fc-a097-88ee866bada4"
      },
      "outputs": [
        {
          "name": "stdout",
          "output_type": "stream",
          "text": [
            "<class 'pandas.core.frame.DataFrame'>\n",
            "RangeIndex: 76051 entries, 0 to 76050\n",
            "Data columns (total 3 columns):\n",
            " #   Column        Non-Null Count  Dtype \n",
            "---  ------        --------------  ----- \n",
            " 0   id            76051 non-null  object\n",
            " 1   user_id       76051 non-null  int64 \n",
            " 2   message_date  76051 non-null  object\n",
            "dtypes: int64(1), object(2)\n",
            "memory usage: 1.7+ MB\n"
          ]
        }
      ],
      "source": [
        "# Imprime la información general/resumida sobre el DataFrame de los mensajes\n",
        "#Se utiliza el método \".info()\" para obtener la información general del dataframe\n",
        "messages.info()\n",
        "#No se observan valore ausentes\n",
        "#Los nombres de las columnas siguen la regla \"snake_case\""
      ]
    },
    {
      "cell_type": "code",
      "execution_count": 30,
      "metadata": {
        "colab": {
          "base_uri": "https://localhost:8080/",
          "height": 363
        },
        "id": "mCEl2iGE0q1A",
        "outputId": "ff2abd97-3574-4cd0-f63c-0f0c7c5f89d8"
      },
      "outputs": [
        {
          "data": {
            "text/html": [
              "<div>\n",
              "<style scoped>\n",
              "    .dataframe tbody tr th:only-of-type {\n",
              "        vertical-align: middle;\n",
              "    }\n",
              "\n",
              "    .dataframe tbody tr th {\n",
              "        vertical-align: top;\n",
              "    }\n",
              "\n",
              "    .dataframe thead th {\n",
              "        text-align: right;\n",
              "    }\n",
              "</style>\n",
              "<table border=\"1\" class=\"dataframe\">\n",
              "  <thead>\n",
              "    <tr style=\"text-align: right;\">\n",
              "      <th></th>\n",
              "      <th>id</th>\n",
              "      <th>user_id</th>\n",
              "      <th>message_date</th>\n",
              "    </tr>\n",
              "  </thead>\n",
              "  <tbody>\n",
              "    <tr>\n",
              "      <th>61277</th>\n",
              "      <td>1384_374</td>\n",
              "      <td>1384</td>\n",
              "      <td>2018-12-28</td>\n",
              "    </tr>\n",
              "    <tr>\n",
              "      <th>29751</th>\n",
              "      <td>1183_146</td>\n",
              "      <td>1183</td>\n",
              "      <td>2018-11-28</td>\n",
              "    </tr>\n",
              "    <tr>\n",
              "      <th>43711</th>\n",
              "      <td>1291_14</td>\n",
              "      <td>1291</td>\n",
              "      <td>2018-04-27</td>\n",
              "    </tr>\n",
              "    <tr>\n",
              "      <th>4026</th>\n",
              "      <td>1039_124</td>\n",
              "      <td>1039</td>\n",
              "      <td>2018-12-01</td>\n",
              "    </tr>\n",
              "    <tr>\n",
              "      <th>51994</th>\n",
              "      <td>1335_586</td>\n",
              "      <td>1335</td>\n",
              "      <td>2018-12-27</td>\n",
              "    </tr>\n",
              "    <tr>\n",
              "      <th>52077</th>\n",
              "      <td>1336_11</td>\n",
              "      <td>1336</td>\n",
              "      <td>2018-06-27</td>\n",
              "    </tr>\n",
              "    <tr>\n",
              "      <th>59293</th>\n",
              "      <td>1374_467</td>\n",
              "      <td>1374</td>\n",
              "      <td>2018-06-19</td>\n",
              "    </tr>\n",
              "    <tr>\n",
              "      <th>52681</th>\n",
              "      <td>1336_706</td>\n",
              "      <td>1336</td>\n",
              "      <td>2018-11-03</td>\n",
              "    </tr>\n",
              "    <tr>\n",
              "      <th>50473</th>\n",
              "      <td>1329_452</td>\n",
              "      <td>1329</td>\n",
              "      <td>2018-12-29</td>\n",
              "    </tr>\n",
              "    <tr>\n",
              "      <th>45775</th>\n",
              "      <td>1312_259</td>\n",
              "      <td>1312</td>\n",
              "      <td>2018-08-29</td>\n",
              "    </tr>\n",
              "  </tbody>\n",
              "</table>\n",
              "</div>"
            ],
            "text/plain": [
              "             id  user_id message_date\n",
              "61277  1384_374     1384   2018-12-28\n",
              "29751  1183_146     1183   2018-11-28\n",
              "43711   1291_14     1291   2018-04-27\n",
              "4026   1039_124     1039   2018-12-01\n",
              "51994  1335_586     1335   2018-12-27\n",
              "52077   1336_11     1336   2018-06-27\n",
              "59293  1374_467     1374   2018-06-19\n",
              "52681  1336_706     1336   2018-11-03\n",
              "50473  1329_452     1329   2018-12-29\n",
              "45775  1312_259     1312   2018-08-29"
            ]
          },
          "execution_count": 30,
          "metadata": {},
          "output_type": "execute_result"
        }
      ],
      "source": [
        "# Imprime una muestra de datos para los mensajes\n",
        "#Se genera una muestra de los registros del dataframe con el método \".sample()\"\n",
        "messages.sample(10)"
      ]
    },
    {
      "cell_type": "markdown",
      "metadata": {
        "id": "04xDj7KH0q1A"
      },
      "source": [
        "En la información se observa que los nombres de la columnas siguen la regla *snake_case*. Para la columna \"message_date\" se considera necesario cambiar el tipo de dato a *datetime*. Se puede observar que no existen valores ausentes. Se verificará que no existan registros duplicados."
      ]
    },
    {
      "cell_type": "markdown",
      "metadata": {
        "id": "Sprfak900q1B"
      },
      "source": [
        "### Corregir los datos"
      ]
    },
    {
      "cell_type": "code",
      "execution_count": 31,
      "metadata": {
        "colab": {
          "base_uri": "https://localhost:8080/"
        },
        "id": "vsllvkoa0q1B",
        "outputId": "d08653a0-ea3f-4a29-8c21-8cdec3f16f5a"
      },
      "outputs": [
        {
          "data": {
            "text/plain": [
              "np.int64(0)"
            ]
          },
          "execution_count": 31,
          "metadata": {},
          "output_type": "execute_result"
        }
      ],
      "source": [
        "#Mediante el método \".duplicated()\" se verifica que no hay duplicados\n",
        "messages.duplicated().sum()"
      ]
    },
    {
      "cell_type": "code",
      "execution_count": 32,
      "metadata": {
        "colab": {
          "base_uri": "https://localhost:8080/"
        },
        "id": "0O6pqralqPr3",
        "outputId": "04e23f6c-7c88-45e4-86c7-86ef86e331cf"
      },
      "outputs": [
        {
          "data": {
            "text/plain": [
              "np.int64(0)"
            ]
          },
          "execution_count": 32,
          "metadata": {},
          "output_type": "execute_result"
        }
      ],
      "source": [
        "#Se verifica que no hayan duplicados implícitos bajo el mismo id\n",
        "messages[\"id\"].duplicated().sum()"
      ]
    },
    {
      "cell_type": "code",
      "execution_count": 33,
      "metadata": {
        "colab": {
          "base_uri": "https://localhost:8080/",
          "height": 178
        },
        "id": "w9JRSuBnqRUA",
        "outputId": "e958329d-9319-4b1e-f761-3770b6db2aff"
      },
      "outputs": [
        {
          "data": {
            "text/plain": [
              "id              0\n",
              "user_id         0\n",
              "message_date    0\n",
              "dtype: int64"
            ]
          },
          "execution_count": 33,
          "metadata": {},
          "output_type": "execute_result"
        }
      ],
      "source": [
        "#Mediante el método \".isna()\" se verifica que no hay valores ausentes\n",
        "messages.isna().sum()"
      ]
    },
    {
      "cell_type": "code",
      "execution_count": 34,
      "metadata": {
        "id": "9qQ04uzTqS1g"
      },
      "outputs": [],
      "source": [
        "#La columna con información de fechas se convierte al tipo datetime\n",
        "messages[\"message_date\"]=pd.to_datetime(messages[\"message_date\"], format=\"%Y-%m-%d\")"
      ]
    },
    {
      "cell_type": "markdown",
      "metadata": {
        "id": "HvLid7iD0q1B"
      },
      "source": [
        "### Enriquecer los datos"
      ]
    },
    {
      "cell_type": "markdown",
      "metadata": {
        "id": "8nhPFKIe0q1C"
      },
      "source": [
        "Para evaluar estadísticas de los mensajes para los meses del año 2018, creamos una columna adicional que indica el mes de la actividad del usuario. En este caso, fue útil convertir el tipo de dato a *datetime* dado que podemos extraer fácilmente el número del mes de la fecha."
      ]
    },
    {
      "cell_type": "code",
      "execution_count": 35,
      "metadata": {
        "id": "zYEXZac10q1C"
      },
      "outputs": [],
      "source": [
        "#Se crea una columna con el mes en el que el usuario manda un mensaje de texto\n",
        "messages[\"month\"]=messages[\"message_date\"].dt.month"
      ]
    },
    {
      "cell_type": "markdown",
      "metadata": {
        "id": "bStkaxn40q1C"
      },
      "source": [
        "## Internet"
      ]
    },
    {
      "cell_type": "code",
      "execution_count": 36,
      "metadata": {
        "colab": {
          "base_uri": "https://localhost:8080/"
        },
        "id": "e-Uz5qyn0q1C",
        "outputId": "b407616d-9bb4-4454-8212-b15a0fdf54b0"
      },
      "outputs": [
        {
          "name": "stdout",
          "output_type": "stream",
          "text": [
            "<class 'pandas.core.frame.DataFrame'>\n",
            "RangeIndex: 104825 entries, 0 to 104824\n",
            "Data columns (total 4 columns):\n",
            " #   Column        Non-Null Count   Dtype  \n",
            "---  ------        --------------   -----  \n",
            " 0   id            104825 non-null  object \n",
            " 1   user_id       104825 non-null  int64  \n",
            " 2   session_date  104825 non-null  object \n",
            " 3   mb_used       104825 non-null  float64\n",
            "dtypes: float64(1), int64(1), object(2)\n",
            "memory usage: 3.2+ MB\n"
          ]
        }
      ],
      "source": [
        "# Imprime la información general/resumida sobre el DataFrame de internet\n",
        "#Se utiliza el método \".info()\" para obtener la información general del dataframe\n",
        "internet.info()\n",
        "#No se observan valores ausentes\n",
        "#Los nombres de las columnas siguen la regla \"snake_case\""
      ]
    },
    {
      "cell_type": "code",
      "execution_count": 37,
      "metadata": {
        "colab": {
          "base_uri": "https://localhost:8080/",
          "height": 363
        },
        "id": "9r3x_XLw0q1C",
        "outputId": "44d6a210-bfa7-4ba3-b419-81d84f001504"
      },
      "outputs": [
        {
          "data": {
            "text/html": [
              "<div>\n",
              "<style scoped>\n",
              "    .dataframe tbody tr th:only-of-type {\n",
              "        vertical-align: middle;\n",
              "    }\n",
              "\n",
              "    .dataframe tbody tr th {\n",
              "        vertical-align: top;\n",
              "    }\n",
              "\n",
              "    .dataframe thead th {\n",
              "        text-align: right;\n",
              "    }\n",
              "</style>\n",
              "<table border=\"1\" class=\"dataframe\">\n",
              "  <thead>\n",
              "    <tr style=\"text-align: right;\">\n",
              "      <th></th>\n",
              "      <th>id</th>\n",
              "      <th>user_id</th>\n",
              "      <th>session_date</th>\n",
              "      <th>mb_used</th>\n",
              "    </tr>\n",
              "  </thead>\n",
              "  <tbody>\n",
              "    <tr>\n",
              "      <th>94717</th>\n",
              "      <td>1440_355</td>\n",
              "      <td>1440</td>\n",
              "      <td>2018-09-02</td>\n",
              "      <td>587.62</td>\n",
              "    </tr>\n",
              "    <tr>\n",
              "      <th>6710</th>\n",
              "      <td>1038_198</td>\n",
              "      <td>1038</td>\n",
              "      <td>2018-12-15</td>\n",
              "      <td>523.64</td>\n",
              "    </tr>\n",
              "    <tr>\n",
              "      <th>36278</th>\n",
              "      <td>1163_259</td>\n",
              "      <td>1163</td>\n",
              "      <td>2018-12-10</td>\n",
              "      <td>681.98</td>\n",
              "    </tr>\n",
              "    <tr>\n",
              "      <th>39398</th>\n",
              "      <td>1177_33</td>\n",
              "      <td>1177</td>\n",
              "      <td>2018-11-21</td>\n",
              "      <td>378.79</td>\n",
              "    </tr>\n",
              "    <tr>\n",
              "      <th>65573</th>\n",
              "      <td>1302_119</td>\n",
              "      <td>1302</td>\n",
              "      <td>2018-09-30</td>\n",
              "      <td>220.94</td>\n",
              "    </tr>\n",
              "    <tr>\n",
              "      <th>65495</th>\n",
              "      <td>1302_41</td>\n",
              "      <td>1302</td>\n",
              "      <td>2018-10-07</td>\n",
              "      <td>639.68</td>\n",
              "    </tr>\n",
              "    <tr>\n",
              "      <th>63133</th>\n",
              "      <td>1291_258</td>\n",
              "      <td>1291</td>\n",
              "      <td>2018-07-09</td>\n",
              "      <td>69.33</td>\n",
              "    </tr>\n",
              "    <tr>\n",
              "      <th>87970</th>\n",
              "      <td>1406_287</td>\n",
              "      <td>1406</td>\n",
              "      <td>2018-07-04</td>\n",
              "      <td>53.41</td>\n",
              "    </tr>\n",
              "    <tr>\n",
              "      <th>64267</th>\n",
              "      <td>1295_110</td>\n",
              "      <td>1295</td>\n",
              "      <td>2018-12-22</td>\n",
              "      <td>123.09</td>\n",
              "    </tr>\n",
              "    <tr>\n",
              "      <th>53786</th>\n",
              "      <td>1243_88</td>\n",
              "      <td>1243</td>\n",
              "      <td>2018-12-02</td>\n",
              "      <td>496.56</td>\n",
              "    </tr>\n",
              "  </tbody>\n",
              "</table>\n",
              "</div>"
            ],
            "text/plain": [
              "             id  user_id session_date  mb_used\n",
              "94717  1440_355     1440   2018-09-02   587.62\n",
              "6710   1038_198     1038   2018-12-15   523.64\n",
              "36278  1163_259     1163   2018-12-10   681.98\n",
              "39398   1177_33     1177   2018-11-21   378.79\n",
              "65573  1302_119     1302   2018-09-30   220.94\n",
              "65495   1302_41     1302   2018-10-07   639.68\n",
              "63133  1291_258     1291   2018-07-09    69.33\n",
              "87970  1406_287     1406   2018-07-04    53.41\n",
              "64267  1295_110     1295   2018-12-22   123.09\n",
              "53786   1243_88     1243   2018-12-02   496.56"
            ]
          },
          "execution_count": 37,
          "metadata": {},
          "output_type": "execute_result"
        }
      ],
      "source": [
        "# Imprime una muestra de datos para el tráfico de internet\n",
        "#Se genera una muestra de los registros del dataframe con el método \".sample()\"\n",
        "internet.sample(10)"
      ]
    },
    {
      "cell_type": "markdown",
      "metadata": {
        "id": "EzOG5ik30q1D"
      },
      "source": [
        "En la información se observa que los nombres de la columnas siguen la regla *snake_case*. Para la columna \"session_date\" se considera necesario cambiar el tipo de dato a *datetime*. Se verificará que no existan registros duplicados. Se puede observar que no existen valores ausentes."
      ]
    },
    {
      "cell_type": "markdown",
      "metadata": {
        "id": "yA0tkPFg0q1D"
      },
      "source": [
        "### Corregir los datos"
      ]
    },
    {
      "cell_type": "code",
      "execution_count": 38,
      "metadata": {
        "colab": {
          "base_uri": "https://localhost:8080/"
        },
        "id": "zVeanzdd0q1E",
        "outputId": "8ebdf679-0ffe-4303-f9fd-623a0e973286"
      },
      "outputs": [
        {
          "data": {
            "text/plain": [
              "np.int64(0)"
            ]
          },
          "execution_count": 38,
          "metadata": {},
          "output_type": "execute_result"
        }
      ],
      "source": [
        "#Mediante el método \".duplicated()\" se verifica que no hay duplicados\n",
        "internet.duplicated().sum()"
      ]
    },
    {
      "cell_type": "code",
      "execution_count": 39,
      "metadata": {
        "colab": {
          "base_uri": "https://localhost:8080/"
        },
        "id": "6hk-pIfJqyxX",
        "outputId": "364290f3-fa36-4e39-a5bf-7567d8f433f1"
      },
      "outputs": [
        {
          "data": {
            "text/plain": [
              "np.int64(0)"
            ]
          },
          "execution_count": 39,
          "metadata": {},
          "output_type": "execute_result"
        }
      ],
      "source": [
        "#Se verifica que no hayan duplicados implícitos\n",
        "internet[\"id\"].duplicated().sum()"
      ]
    },
    {
      "cell_type": "code",
      "execution_count": 40,
      "metadata": {
        "colab": {
          "base_uri": "https://localhost:8080/",
          "height": 209
        },
        "id": "Ivcgr5h9q0uI",
        "outputId": "8379d93f-f389-47cf-98ad-2b0d66eff7d1"
      },
      "outputs": [
        {
          "data": {
            "text/plain": [
              "id              0\n",
              "user_id         0\n",
              "session_date    0\n",
              "mb_used         0\n",
              "dtype: int64"
            ]
          },
          "execution_count": 40,
          "metadata": {},
          "output_type": "execute_result"
        }
      ],
      "source": [
        "#Mediante el método \".isna()\" se verifica que no hay valores ausentes\n",
        "internet.isna().sum()"
      ]
    },
    {
      "cell_type": "code",
      "execution_count": 41,
      "metadata": {
        "id": "fTmY_K8gq2HS"
      },
      "outputs": [],
      "source": [
        "#La columna con información de fechas se convierte al tipo datetime\n",
        "internet[\"session_date\"]=pd.to_datetime(internet[\"session_date\"], format=\"%Y-%m-%d\")"
      ]
    },
    {
      "cell_type": "markdown",
      "metadata": {
        "id": "e8_mLF4a0q1E"
      },
      "source": [
        "### Enriquecer los datos"
      ]
    },
    {
      "cell_type": "markdown",
      "metadata": {
        "id": "xhNdn2tE0q1E"
      },
      "source": [
        "Para evaluar estadísticas del consumo de internet para los meses del año 2018, creamos una columna adicional que indica el mes de la actividad del usuario. En este caso, fue útil convertir el tipo de dato a *datetime* dado que podemos extraer fácilmente el número del mes de la fecha. Hasta este momento no aplicamos la política de Megaline para el consumo de internet, dado que necesitamos consolidar el consumo mensual para cada usuario. Cuando lo tengamos, convertiremos el consumo de *mb* a *GB* dividiendo entre el factor 1024, después vamos redondear el valor para obtener un número entero de *GB*."
      ]
    },
    {
      "cell_type": "code",
      "execution_count": 42,
      "metadata": {
        "id": "ESiYPIEK0q1E"
      },
      "outputs": [],
      "source": [
        "#Se crea una columna con el mes en el que el usuario usa internet\n",
        "internet[\"month\"]=internet[\"session_date\"].dt.month"
      ]
    },
    {
      "cell_type": "markdown",
      "metadata": {
        "id": "3UA2cqIW0q1E"
      },
      "source": [
        "## Estudiar las condiciones de las tarifas"
      ]
    },
    {
      "cell_type": "markdown",
      "metadata": {
        "id": "T86Sqltq0q1F"
      },
      "source": [
        "A continuación se pueden detallar las condiciones para cada plan de telefonía ofrecido por Megaline. Se puede ver el límite de consumo para cada uno de los tres servicios (llamadas, mensajes e internet). También podemos ver el costo base plan, junto con los factores para el cálculo de costos adicionales en caso de exceder los límites de consumo."
      ]
    },
    {
      "cell_type": "code",
      "execution_count": 43,
      "metadata": {
        "colab": {
          "base_uri": "https://localhost:8080/",
          "height": 145
        },
        "id": "i409op8p0q1F",
        "outputId": "a19f2ae3-95ef-4bb7-b0b3-551f97aced4a"
      },
      "outputs": [
        {
          "data": {
            "text/html": [
              "<div>\n",
              "<style scoped>\n",
              "    .dataframe tbody tr th:only-of-type {\n",
              "        vertical-align: middle;\n",
              "    }\n",
              "\n",
              "    .dataframe tbody tr th {\n",
              "        vertical-align: top;\n",
              "    }\n",
              "\n",
              "    .dataframe thead th {\n",
              "        text-align: right;\n",
              "    }\n",
              "</style>\n",
              "<table border=\"1\" class=\"dataframe\">\n",
              "  <thead>\n",
              "    <tr style=\"text-align: right;\">\n",
              "      <th></th>\n",
              "      <th>messages_included</th>\n",
              "      <th>mb_per_month_included</th>\n",
              "      <th>minutes_included</th>\n",
              "      <th>usd_monthly_pay</th>\n",
              "      <th>usd_per_gb</th>\n",
              "      <th>usd_per_message</th>\n",
              "      <th>usd_per_minute</th>\n",
              "      <th>plan_name</th>\n",
              "    </tr>\n",
              "  </thead>\n",
              "  <tbody>\n",
              "    <tr>\n",
              "      <th>0</th>\n",
              "      <td>50</td>\n",
              "      <td>15360</td>\n",
              "      <td>500</td>\n",
              "      <td>20</td>\n",
              "      <td>10</td>\n",
              "      <td>0.03</td>\n",
              "      <td>0.03</td>\n",
              "      <td>surf</td>\n",
              "    </tr>\n",
              "    <tr>\n",
              "      <th>1</th>\n",
              "      <td>1000</td>\n",
              "      <td>30720</td>\n",
              "      <td>3000</td>\n",
              "      <td>70</td>\n",
              "      <td>7</td>\n",
              "      <td>0.01</td>\n",
              "      <td>0.01</td>\n",
              "      <td>ultimate</td>\n",
              "    </tr>\n",
              "  </tbody>\n",
              "</table>\n",
              "</div>"
            ],
            "text/plain": [
              "   messages_included  mb_per_month_included  minutes_included  \\\n",
              "0                 50                  15360               500   \n",
              "1               1000                  30720              3000   \n",
              "\n",
              "   usd_monthly_pay  usd_per_gb  usd_per_message  usd_per_minute plan_name  \n",
              "0               20          10             0.03            0.03      surf  \n",
              "1               70           7             0.01            0.01  ultimate  "
            ]
          },
          "execution_count": 43,
          "metadata": {},
          "output_type": "execute_result"
        }
      ],
      "source": [
        "# Imprime las condiciones de la tarifa y asegúrate de que te quedan claras\n",
        "plans"
      ]
    },
    {
      "cell_type": "markdown",
      "metadata": {
        "id": "hMR1tP5d0q1F"
      },
      "source": [
        "## Agregar datos por usuario\n",
        "Utilizando agrupación, vamos a obtener la información de los consumos para cada uno de los servicios de todos los usuarios en cada mes del año."
      ]
    },
    {
      "cell_type": "code",
      "execution_count": 44,
      "metadata": {
        "id": "A332cedB0q1G"
      },
      "outputs": [],
      "source": [
        "# Calcula el número de llamadas hechas por cada usuario al mes. Guarda el resultado.\n",
        "#calls_num_user=calls.pivot_table(index=\"user_id\", columns=\"call_month\", values=\"id\", aggfunc=\"count\")\n",
        "#Mediate el método \".groupby()\" se agrupa la información por usuario y por mes\n",
        "#Luego se procede a contar el número de llamadas realizadas por cada usuario en cada mes con \".count()\"\n",
        "calls_num_user=calls.groupby([\"user_id\", \"month\"])[\"id\"].count()"
      ]
    },
    {
      "cell_type": "code",
      "execution_count": 45,
      "metadata": {
        "id": "aw2cmuql0q1G"
      },
      "outputs": [],
      "source": [
        "# Calcula la cantidad de minutos usados por cada usuario al mes. Guarda el resultado.\n",
        "#mins_calls_user=calls.pivot_table(index=\"user_id\", columns=\"call_month\", values=\"duration\", aggfunc=\"sum\")\n",
        "#Mediate el método \".groupby()\" se agrupa la información por usuario y por mes\n",
        "#Luego se procede a contar la cantidad de minutos usados por cada usuario en cada mes con \".sum()\"\n",
        "mins_calls_user=calls.groupby([\"user_id\", \"month\"])[\"duration\"].sum()"
      ]
    },
    {
      "cell_type": "code",
      "execution_count": 46,
      "metadata": {
        "id": "CcQvNHn60q1G"
      },
      "outputs": [],
      "source": [
        "# Calcula el número de mensajes enviados por cada usuario al mes. Guarda el resultado.\n",
        "#msgs_user=messages.pivot_table(index=\"user_id\", columns=\"message_month\", values=\"id\", aggfunc=\"count\")\n",
        "#Mediate el método \".groupby()\" se agrupa la información por usuario y por mes\n",
        "#Luego se procede a contar el número de mensajes enviados por cada usuario en cada mes con \".count()\"\n",
        "msgs_user=messages.groupby([\"user_id\", \"month\"])[\"id\"].count()"
      ]
    },
    {
      "cell_type": "code",
      "execution_count": 47,
      "metadata": {
        "id": "H1AqN2eG0q1H"
      },
      "outputs": [],
      "source": [
        "# Calcula el volumen del tráfico de Internet usado por cada usuario al mes. Guarda el resultado.\n",
        "#inter_user=internet.pivot_table(index=\"user_id\", columns=\"session_month\", values=\"mb_used\", aggfunc=\"sum\")\n",
        "#Mediate el método \".groupby()\" se agrupa la información por usuario y por mes\n",
        "#Luego se procede a contar la cantidad de 'mb' de internet usados por cada el usuario en cada mes con \".sum()\"\n",
        "inter_user=internet.groupby([\"user_id\", \"month\"])[\"mb_used\"].sum()"
      ]
    },
    {
      "cell_type": "markdown",
      "metadata": {
        "id": "VDfYXnj80q1H"
      },
      "source": [
        "Ahora vamos consolidar la información obtenida anteriormente en un solo dataframe."
      ]
    },
    {
      "cell_type": "code",
      "execution_count": 48,
      "metadata": {
        "colab": {
          "base_uri": "https://localhost:8080/",
          "height": 423
        },
        "id": "FW99ykyf0q1H",
        "outputId": "d48db1f8-4a80-4cf7-ac79-a4dd5eea5678"
      },
      "outputs": [
        {
          "data": {
            "text/html": [
              "<div>\n",
              "<style scoped>\n",
              "    .dataframe tbody tr th:only-of-type {\n",
              "        vertical-align: middle;\n",
              "    }\n",
              "\n",
              "    .dataframe tbody tr th {\n",
              "        vertical-align: top;\n",
              "    }\n",
              "\n",
              "    .dataframe thead th {\n",
              "        text-align: right;\n",
              "    }\n",
              "</style>\n",
              "<table border=\"1\" class=\"dataframe\">\n",
              "  <thead>\n",
              "    <tr style=\"text-align: right;\">\n",
              "      <th></th>\n",
              "      <th>user_id</th>\n",
              "      <th>month</th>\n",
              "      <th>calls_num</th>\n",
              "      <th>calls_duration</th>\n",
              "      <th>messages_num</th>\n",
              "      <th>gb_volume</th>\n",
              "    </tr>\n",
              "  </thead>\n",
              "  <tbody>\n",
              "    <tr>\n",
              "      <th>0</th>\n",
              "      <td>1000</td>\n",
              "      <td>12</td>\n",
              "      <td>16.0</td>\n",
              "      <td>124.0</td>\n",
              "      <td>11.0</td>\n",
              "      <td>2.0</td>\n",
              "    </tr>\n",
              "    <tr>\n",
              "      <th>1</th>\n",
              "      <td>1001</td>\n",
              "      <td>8</td>\n",
              "      <td>27.0</td>\n",
              "      <td>182.0</td>\n",
              "      <td>30.0</td>\n",
              "      <td>7.0</td>\n",
              "    </tr>\n",
              "    <tr>\n",
              "      <th>2</th>\n",
              "      <td>1001</td>\n",
              "      <td>9</td>\n",
              "      <td>49.0</td>\n",
              "      <td>315.0</td>\n",
              "      <td>44.0</td>\n",
              "      <td>14.0</td>\n",
              "    </tr>\n",
              "    <tr>\n",
              "      <th>3</th>\n",
              "      <td>1001</td>\n",
              "      <td>10</td>\n",
              "      <td>65.0</td>\n",
              "      <td>393.0</td>\n",
              "      <td>53.0</td>\n",
              "      <td>22.0</td>\n",
              "    </tr>\n",
              "    <tr>\n",
              "      <th>4</th>\n",
              "      <td>1001</td>\n",
              "      <td>11</td>\n",
              "      <td>64.0</td>\n",
              "      <td>426.0</td>\n",
              "      <td>36.0</td>\n",
              "      <td>19.0</td>\n",
              "    </tr>\n",
              "    <tr>\n",
              "      <th>...</th>\n",
              "      <td>...</td>\n",
              "      <td>...</td>\n",
              "      <td>...</td>\n",
              "      <td>...</td>\n",
              "      <td>...</td>\n",
              "      <td>...</td>\n",
              "    </tr>\n",
              "    <tr>\n",
              "      <th>2288</th>\n",
              "      <td>1349</td>\n",
              "      <td>12</td>\n",
              "      <td>NaN</td>\n",
              "      <td>NaN</td>\n",
              "      <td>61.0</td>\n",
              "      <td>13.0</td>\n",
              "    </tr>\n",
              "    <tr>\n",
              "      <th>2289</th>\n",
              "      <td>1361</td>\n",
              "      <td>5</td>\n",
              "      <td>NaN</td>\n",
              "      <td>NaN</td>\n",
              "      <td>2.0</td>\n",
              "      <td>2.0</td>\n",
              "    </tr>\n",
              "    <tr>\n",
              "      <th>2290</th>\n",
              "      <td>1482</td>\n",
              "      <td>10</td>\n",
              "      <td>NaN</td>\n",
              "      <td>NaN</td>\n",
              "      <td>2.0</td>\n",
              "      <td>NaN</td>\n",
              "    </tr>\n",
              "    <tr>\n",
              "      <th>2291</th>\n",
              "      <td>1108</td>\n",
              "      <td>12</td>\n",
              "      <td>NaN</td>\n",
              "      <td>NaN</td>\n",
              "      <td>NaN</td>\n",
              "      <td>1.0</td>\n",
              "    </tr>\n",
              "    <tr>\n",
              "      <th>2292</th>\n",
              "      <td>1311</td>\n",
              "      <td>6</td>\n",
              "      <td>NaN</td>\n",
              "      <td>NaN</td>\n",
              "      <td>NaN</td>\n",
              "      <td>2.0</td>\n",
              "    </tr>\n",
              "  </tbody>\n",
              "</table>\n",
              "<p>2293 rows × 6 columns</p>\n",
              "</div>"
            ],
            "text/plain": [
              "      user_id  month  calls_num  calls_duration  messages_num  gb_volume\n",
              "0        1000     12       16.0           124.0          11.0        2.0\n",
              "1        1001      8       27.0           182.0          30.0        7.0\n",
              "2        1001      9       49.0           315.0          44.0       14.0\n",
              "3        1001     10       65.0           393.0          53.0       22.0\n",
              "4        1001     11       64.0           426.0          36.0       19.0\n",
              "...       ...    ...        ...             ...           ...        ...\n",
              "2288     1349     12        NaN             NaN          61.0       13.0\n",
              "2289     1361      5        NaN             NaN           2.0        2.0\n",
              "2290     1482     10        NaN             NaN           2.0        NaN\n",
              "2291     1108     12        NaN             NaN           NaN        1.0\n",
              "2292     1311      6        NaN             NaN           NaN        2.0\n",
              "\n",
              "[2293 rows x 6 columns]"
            ]
          },
          "execution_count": 48,
          "metadata": {},
          "output_type": "execute_result"
        }
      ],
      "source": [
        "# Fusiona los datos de llamadas, minutos, mensajes e Internet con base en user_id y month\n",
        "#Se combina la información obtenida en las 4 agrupaciones realizadas anteriormente\n",
        "#mediante el método \".concat()\"\n",
        "user_monthly=pd.concat([calls_num_user,mins_calls_user,msgs_user,inter_user], axis=\"columns\")\n",
        "#Se renombran las columnas para facilitar la identificación\n",
        "user_monthly.columns=[\"calls_num\", \"calls_duration\",\"messages_num\",\"gb_volume\"]\n",
        "#El consumo mensual de internet se convierte a GB y se redondea el entero inmediatamente mayor\n",
        "#usando la función \"np.ceil()\".\n",
        "user_monthly[\"gb_volume\"]=np.ceil(user_monthly[\"gb_volume\"]/1024)\n",
        "#Para facilitar el manejo de la información del dataframe resultante, se restablece\n",
        "#el index por defecto, sin perder la información de cada usuario en cada mes\n",
        "user_monthly=user_monthly.reset_index()\n",
        "#Se muestra el dataframe resultante\n",
        "user_monthly"
      ]
    },
    {
      "cell_type": "code",
      "execution_count": 49,
      "metadata": {
        "colab": {
          "base_uri": "https://localhost:8080/",
          "height": 562
        },
        "id": "0dNOXHag0q1H",
        "outputId": "c6df8be1-8832-4db7-aca8-878ef9399baf"
      },
      "outputs": [
        {
          "data": {
            "text/html": [
              "<div>\n",
              "<style scoped>\n",
              "    .dataframe tbody tr th:only-of-type {\n",
              "        vertical-align: middle;\n",
              "    }\n",
              "\n",
              "    .dataframe tbody tr th {\n",
              "        vertical-align: top;\n",
              "    }\n",
              "\n",
              "    .dataframe thead th {\n",
              "        text-align: right;\n",
              "    }\n",
              "</style>\n",
              "<table border=\"1\" class=\"dataframe\">\n",
              "  <thead>\n",
              "    <tr style=\"text-align: right;\">\n",
              "      <th></th>\n",
              "      <th>user_id</th>\n",
              "      <th>month</th>\n",
              "      <th>calls_num</th>\n",
              "      <th>calls_duration</th>\n",
              "      <th>messages_num</th>\n",
              "      <th>gb_volume</th>\n",
              "      <th>city</th>\n",
              "      <th>plan</th>\n",
              "    </tr>\n",
              "  </thead>\n",
              "  <tbody>\n",
              "    <tr>\n",
              "      <th>0</th>\n",
              "      <td>1000</td>\n",
              "      <td>12</td>\n",
              "      <td>16.0</td>\n",
              "      <td>124.0</td>\n",
              "      <td>11.0</td>\n",
              "      <td>2.0</td>\n",
              "      <td>Atlanta-Sandy Springs-Roswell, GA MSA</td>\n",
              "      <td>ultimate</td>\n",
              "    </tr>\n",
              "    <tr>\n",
              "      <th>1</th>\n",
              "      <td>1001</td>\n",
              "      <td>8</td>\n",
              "      <td>27.0</td>\n",
              "      <td>182.0</td>\n",
              "      <td>30.0</td>\n",
              "      <td>7.0</td>\n",
              "      <td>Seattle-Tacoma-Bellevue, WA MSA</td>\n",
              "      <td>surf</td>\n",
              "    </tr>\n",
              "    <tr>\n",
              "      <th>2</th>\n",
              "      <td>1001</td>\n",
              "      <td>9</td>\n",
              "      <td>49.0</td>\n",
              "      <td>315.0</td>\n",
              "      <td>44.0</td>\n",
              "      <td>14.0</td>\n",
              "      <td>Seattle-Tacoma-Bellevue, WA MSA</td>\n",
              "      <td>surf</td>\n",
              "    </tr>\n",
              "    <tr>\n",
              "      <th>3</th>\n",
              "      <td>1001</td>\n",
              "      <td>10</td>\n",
              "      <td>65.0</td>\n",
              "      <td>393.0</td>\n",
              "      <td>53.0</td>\n",
              "      <td>22.0</td>\n",
              "      <td>Seattle-Tacoma-Bellevue, WA MSA</td>\n",
              "      <td>surf</td>\n",
              "    </tr>\n",
              "    <tr>\n",
              "      <th>4</th>\n",
              "      <td>1001</td>\n",
              "      <td>11</td>\n",
              "      <td>64.0</td>\n",
              "      <td>426.0</td>\n",
              "      <td>36.0</td>\n",
              "      <td>19.0</td>\n",
              "      <td>Seattle-Tacoma-Bellevue, WA MSA</td>\n",
              "      <td>surf</td>\n",
              "    </tr>\n",
              "    <tr>\n",
              "      <th>...</th>\n",
              "      <td>...</td>\n",
              "      <td>...</td>\n",
              "      <td>...</td>\n",
              "      <td>...</td>\n",
              "      <td>...</td>\n",
              "      <td>...</td>\n",
              "      <td>...</td>\n",
              "      <td>...</td>\n",
              "    </tr>\n",
              "    <tr>\n",
              "      <th>2288</th>\n",
              "      <td>1349</td>\n",
              "      <td>12</td>\n",
              "      <td>NaN</td>\n",
              "      <td>NaN</td>\n",
              "      <td>61.0</td>\n",
              "      <td>13.0</td>\n",
              "      <td>Boston-Cambridge-Newton, MA-NH MSA</td>\n",
              "      <td>surf</td>\n",
              "    </tr>\n",
              "    <tr>\n",
              "      <th>2289</th>\n",
              "      <td>1361</td>\n",
              "      <td>5</td>\n",
              "      <td>NaN</td>\n",
              "      <td>NaN</td>\n",
              "      <td>2.0</td>\n",
              "      <td>2.0</td>\n",
              "      <td>Birmingham-Hoover, AL MSA</td>\n",
              "      <td>surf</td>\n",
              "    </tr>\n",
              "    <tr>\n",
              "      <th>2290</th>\n",
              "      <td>1482</td>\n",
              "      <td>10</td>\n",
              "      <td>NaN</td>\n",
              "      <td>NaN</td>\n",
              "      <td>2.0</td>\n",
              "      <td>NaN</td>\n",
              "      <td>New York-Newark-Jersey City, NY-NJ-PA MSA</td>\n",
              "      <td>ultimate</td>\n",
              "    </tr>\n",
              "    <tr>\n",
              "      <th>2291</th>\n",
              "      <td>1108</td>\n",
              "      <td>12</td>\n",
              "      <td>NaN</td>\n",
              "      <td>NaN</td>\n",
              "      <td>NaN</td>\n",
              "      <td>1.0</td>\n",
              "      <td>Salt Lake City, UT MSA</td>\n",
              "      <td>ultimate</td>\n",
              "    </tr>\n",
              "    <tr>\n",
              "      <th>2292</th>\n",
              "      <td>1311</td>\n",
              "      <td>6</td>\n",
              "      <td>NaN</td>\n",
              "      <td>NaN</td>\n",
              "      <td>NaN</td>\n",
              "      <td>2.0</td>\n",
              "      <td>Memphis, TN-MS-AR MSA</td>\n",
              "      <td>ultimate</td>\n",
              "    </tr>\n",
              "  </tbody>\n",
              "</table>\n",
              "<p>2293 rows × 8 columns</p>\n",
              "</div>"
            ],
            "text/plain": [
              "      user_id  month  calls_num  calls_duration  messages_num  gb_volume  \\\n",
              "0        1000     12       16.0           124.0          11.0        2.0   \n",
              "1        1001      8       27.0           182.0          30.0        7.0   \n",
              "2        1001      9       49.0           315.0          44.0       14.0   \n",
              "3        1001     10       65.0           393.0          53.0       22.0   \n",
              "4        1001     11       64.0           426.0          36.0       19.0   \n",
              "...       ...    ...        ...             ...           ...        ...   \n",
              "2288     1349     12        NaN             NaN          61.0       13.0   \n",
              "2289     1361      5        NaN             NaN           2.0        2.0   \n",
              "2290     1482     10        NaN             NaN           2.0        NaN   \n",
              "2291     1108     12        NaN             NaN           NaN        1.0   \n",
              "2292     1311      6        NaN             NaN           NaN        2.0   \n",
              "\n",
              "                                           city      plan  \n",
              "0         Atlanta-Sandy Springs-Roswell, GA MSA  ultimate  \n",
              "1               Seattle-Tacoma-Bellevue, WA MSA      surf  \n",
              "2               Seattle-Tacoma-Bellevue, WA MSA      surf  \n",
              "3               Seattle-Tacoma-Bellevue, WA MSA      surf  \n",
              "4               Seattle-Tacoma-Bellevue, WA MSA      surf  \n",
              "...                                         ...       ...  \n",
              "2288         Boston-Cambridge-Newton, MA-NH MSA      surf  \n",
              "2289                  Birmingham-Hoover, AL MSA      surf  \n",
              "2290  New York-Newark-Jersey City, NY-NJ-PA MSA  ultimate  \n",
              "2291                     Salt Lake City, UT MSA  ultimate  \n",
              "2292                      Memphis, TN-MS-AR MSA  ultimate  \n",
              "\n",
              "[2293 rows x 8 columns]"
            ]
          },
          "execution_count": 49,
          "metadata": {},
          "output_type": "execute_result"
        }
      ],
      "source": [
        "# Añade la información de la tarifa\n",
        "#Mediante el método \".merge()\" se agrega la información personal de cada usuario\n",
        "user_month_data=user_monthly.merge(users, on=\"user_id\")\n",
        "#Removemos las columnas que no serán útiles a futuro\n",
        "user_month_data.drop([\"first_name\", \"last_name\", \"age\", \"reg_date\", \"churn_date\"], axis=\"columns\", inplace=True)\n",
        "#Se muestra el dataframe resultante\n",
        "user_month_data"
      ]
    },
    {
      "cell_type": "code",
      "execution_count": 50,
      "metadata": {
        "id": "Q7M1zgKATwZB"
      },
      "outputs": [],
      "source": [
        "#Como el usuario no presenta actividad para todos los servicios disponibles (llamdas, mensajes e internet)\n",
        "#en todos los meses, se procede a reemplazar los valores ausentes con el valor 0.\n",
        "user_month_data.fillna(0, inplace=True)"
      ]
    },
    {
      "cell_type": "markdown",
      "metadata": {
        "id": "1IwGo4wg0q1I"
      },
      "source": [
        "Con la información de los consumos de cada uno de los servicios para todos los usuarios en cada mes, podemos calcular el ingreso mensual de cada uno de los usuarios. Para esto, determinaremos para cada mes si el usuario excedió las condiciones de cobertura de su plan. Es decir, si sobrepasó los límites de consumo, determinaremos los costos adicionales generados en el mes y los sumaremos con el costo base del plan. De esta manera calcularemos el valor del ingreso mensual de cada usuario."
      ]
    },
    {
      "cell_type": "code",
      "execution_count": 51,
      "metadata": {
        "colab": {
          "base_uri": "https://localhost:8080/",
          "height": 710
        },
        "id": "5FGCf_c60q1I",
        "outputId": "e75fc604-5021-475b-8fa5-815b341aeae0"
      },
      "outputs": [
        {
          "data": {
            "text/html": [
              "<div>\n",
              "<style scoped>\n",
              "    .dataframe tbody tr th:only-of-type {\n",
              "        vertical-align: middle;\n",
              "    }\n",
              "\n",
              "    .dataframe tbody tr th {\n",
              "        vertical-align: top;\n",
              "    }\n",
              "\n",
              "    .dataframe thead th {\n",
              "        text-align: right;\n",
              "    }\n",
              "</style>\n",
              "<table border=\"1\" class=\"dataframe\">\n",
              "  <thead>\n",
              "    <tr style=\"text-align: right;\">\n",
              "      <th></th>\n",
              "      <th>user_id</th>\n",
              "      <th>month</th>\n",
              "      <th>calls_num</th>\n",
              "      <th>calls_duration</th>\n",
              "      <th>messages_num</th>\n",
              "      <th>gb_volume</th>\n",
              "      <th>city</th>\n",
              "      <th>plan</th>\n",
              "      <th>income</th>\n",
              "    </tr>\n",
              "  </thead>\n",
              "  <tbody>\n",
              "    <tr>\n",
              "      <th>27</th>\n",
              "      <td>1008</td>\n",
              "      <td>11</td>\n",
              "      <td>63.0</td>\n",
              "      <td>446.0</td>\n",
              "      <td>37.0</td>\n",
              "      <td>24.0</td>\n",
              "      <td>Orlando-Kissimmee-Sanford, FL MSA</td>\n",
              "      <td>ultimate</td>\n",
              "      <td>70.00</td>\n",
              "    </tr>\n",
              "    <tr>\n",
              "      <th>600</th>\n",
              "      <td>1128</td>\n",
              "      <td>12</td>\n",
              "      <td>11.0</td>\n",
              "      <td>101.0</td>\n",
              "      <td>55.0</td>\n",
              "      <td>16.0</td>\n",
              "      <td>Knoxville, TN MSA</td>\n",
              "      <td>ultimate</td>\n",
              "      <td>70.00</td>\n",
              "    </tr>\n",
              "    <tr>\n",
              "      <th>870</th>\n",
              "      <td>1185</td>\n",
              "      <td>10</td>\n",
              "      <td>65.0</td>\n",
              "      <td>439.0</td>\n",
              "      <td>0.0</td>\n",
              "      <td>25.0</td>\n",
              "      <td>Louisville/Jefferson County, KY-IN MSA</td>\n",
              "      <td>ultimate</td>\n",
              "      <td>70.00</td>\n",
              "    </tr>\n",
              "    <tr>\n",
              "      <th>455</th>\n",
              "      <td>1099</td>\n",
              "      <td>2</td>\n",
              "      <td>7.0</td>\n",
              "      <td>39.0</td>\n",
              "      <td>3.0</td>\n",
              "      <td>1.0</td>\n",
              "      <td>New York-Newark-Jersey City, NY-NJ-PA MSA</td>\n",
              "      <td>surf</td>\n",
              "      <td>20.00</td>\n",
              "    </tr>\n",
              "    <tr>\n",
              "      <th>81</th>\n",
              "      <td>1022</td>\n",
              "      <td>11</td>\n",
              "      <td>72.0</td>\n",
              "      <td>498.0</td>\n",
              "      <td>0.0</td>\n",
              "      <td>22.0</td>\n",
              "      <td>New York-Newark-Jersey City, NY-NJ-PA MSA</td>\n",
              "      <td>surf</td>\n",
              "      <td>90.00</td>\n",
              "    </tr>\n",
              "    <tr>\n",
              "      <th>135</th>\n",
              "      <td>1038</td>\n",
              "      <td>11</td>\n",
              "      <td>69.0</td>\n",
              "      <td>414.0</td>\n",
              "      <td>106.0</td>\n",
              "      <td>38.0</td>\n",
              "      <td>Nashville-Davidson–Murfreesboro–Franklin, TN MSA</td>\n",
              "      <td>ultimate</td>\n",
              "      <td>126.00</td>\n",
              "    </tr>\n",
              "    <tr>\n",
              "      <th>2185</th>\n",
              "      <td>1483</td>\n",
              "      <td>11</td>\n",
              "      <td>55.0</td>\n",
              "      <td>410.0</td>\n",
              "      <td>4.0</td>\n",
              "      <td>10.0</td>\n",
              "      <td>Chicago-Naperville-Elgin, IL-IN-WI MSA</td>\n",
              "      <td>surf</td>\n",
              "      <td>20.00</td>\n",
              "    </tr>\n",
              "    <tr>\n",
              "      <th>779</th>\n",
              "      <td>1166</td>\n",
              "      <td>12</td>\n",
              "      <td>24.0</td>\n",
              "      <td>215.0</td>\n",
              "      <td>0.0</td>\n",
              "      <td>20.0</td>\n",
              "      <td>Baltimore-Columbia-Towson, MD MSA</td>\n",
              "      <td>surf</td>\n",
              "      <td>70.00</td>\n",
              "    </tr>\n",
              "    <tr>\n",
              "      <th>549</th>\n",
              "      <td>1119</td>\n",
              "      <td>10</td>\n",
              "      <td>49.0</td>\n",
              "      <td>351.0</td>\n",
              "      <td>105.0</td>\n",
              "      <td>1.0</td>\n",
              "      <td>Louisville/Jefferson County, KY-IN MSA</td>\n",
              "      <td>surf</td>\n",
              "      <td>21.65</td>\n",
              "    </tr>\n",
              "    <tr>\n",
              "      <th>657</th>\n",
              "      <td>1142</td>\n",
              "      <td>11</td>\n",
              "      <td>54.0</td>\n",
              "      <td>433.0</td>\n",
              "      <td>47.0</td>\n",
              "      <td>19.0</td>\n",
              "      <td>New Orleans-Metairie, LA MSA</td>\n",
              "      <td>surf</td>\n",
              "      <td>60.00</td>\n",
              "    </tr>\n",
              "  </tbody>\n",
              "</table>\n",
              "</div>"
            ],
            "text/plain": [
              "      user_id  month  calls_num  calls_duration  messages_num  gb_volume  \\\n",
              "27       1008     11       63.0           446.0          37.0       24.0   \n",
              "600      1128     12       11.0           101.0          55.0       16.0   \n",
              "870      1185     10       65.0           439.0           0.0       25.0   \n",
              "455      1099      2        7.0            39.0           3.0        1.0   \n",
              "81       1022     11       72.0           498.0           0.0       22.0   \n",
              "135      1038     11       69.0           414.0         106.0       38.0   \n",
              "2185     1483     11       55.0           410.0           4.0       10.0   \n",
              "779      1166     12       24.0           215.0           0.0       20.0   \n",
              "549      1119     10       49.0           351.0         105.0        1.0   \n",
              "657      1142     11       54.0           433.0          47.0       19.0   \n",
              "\n",
              "                                                  city      plan  income  \n",
              "27                   Orlando-Kissimmee-Sanford, FL MSA  ultimate   70.00  \n",
              "600                                  Knoxville, TN MSA  ultimate   70.00  \n",
              "870             Louisville/Jefferson County, KY-IN MSA  ultimate   70.00  \n",
              "455          New York-Newark-Jersey City, NY-NJ-PA MSA      surf   20.00  \n",
              "81           New York-Newark-Jersey City, NY-NJ-PA MSA      surf   90.00  \n",
              "135   Nashville-Davidson–Murfreesboro–Franklin, TN MSA  ultimate  126.00  \n",
              "2185            Chicago-Naperville-Elgin, IL-IN-WI MSA      surf   20.00  \n",
              "779                  Baltimore-Columbia-Towson, MD MSA      surf   70.00  \n",
              "549             Louisville/Jefferson County, KY-IN MSA      surf   21.65  \n",
              "657                       New Orleans-Metairie, LA MSA      surf   60.00  "
            ]
          },
          "execution_count": 51,
          "metadata": {},
          "output_type": "execute_result"
        }
      ],
      "source": [
        "# Calcula el ingreso mensual para cada usuario\n",
        "#Se crea una función que nos ayude a procesar la diferencia entre el límite para\n",
        "#cada servicio y el consumo del usuario.\n",
        "def cont_neg_zero(value):\n",
        "#Si la diferencia es negativa, significa que el usuario sobrepaso el límite de\n",
        "#consumo. La diferencia se multiplica por (-1) para convertirla en un valor\n",
        "#positivo y multiplicarla por el factor de costo correspondiente al servicio.\n",
        "    if value<0:\n",
        "      value*=-1\n",
        "    else:\n",
        "#Si la diferencia es mayor o igual que cero, significa que el usuario no sobrepasó el\n",
        "#límite de consumo. La diferencia se hace igual a cero, para que no se tenga en cuenta\n",
        "#en el cálculo del ingreso mensual.\n",
        "      value=0\n",
        "#Se retorna el valor listo para ser incluido en el cálculo de ingresos mensuales.\n",
        "    return value\n",
        "\n",
        "#Se crea una función que accede a las filas del dataframe para calcular los\n",
        "#gastos de cada usuario en su plan de telefonía.\n",
        "def month_pay(row):\n",
        "#Primero se identifica cuál es el plan del usuario. Dependiendo del plan, se definen\n",
        "#los límites de cada servicio y los factores de costos adicionales para el cálculo.\n",
        "  if (row[\"plan\"]==\"surf\"):\n",
        "#Se calcula la diferencia entre el límite y las llamadas realizadas por el usuario.\n",
        "    dif_surf_calls=cont_neg_zero(plans.loc[0,\"minutes_included\"]-row[\"calls_duration\"])\n",
        "#Se calcula la diferencia entre el límite y los mensajes de texto enviados por el usuario.\n",
        "    dif_surf_msg=cont_neg_zero(plans.loc[0,\"messages_included\"]-row[\"messages_num\"])\n",
        "#Se calcula la diferencia entre el límite y los 'mb' de internet usados por el usuario.\n",
        "    dif_surf_int=cont_neg_zero((plans.loc[0,\"mb_per_month_included\"]/1024)-row[\"gb_volume\"])\n",
        "#A cada una de las diferencias se le aplicó la función definida previamente.\n",
        "#Se calcula el ingreso mensual de cada usuario.\n",
        "#Se multiplica la diferencia de cada servicio por su respectiva tarifa de costos adicionales\n",
        "#y se suman con el valor base del plan de telefonía celular.\n",
        "    surf_user_pay=(dif_surf_calls*plans.loc[0, \"usd_per_minute\"])+(dif_surf_msg*plans.loc[0, \"usd_per_message\"])+(dif_surf_int*plans.loc[0, \"usd_per_gb\"])+plans.loc[0,\"usd_monthly_pay\"]\n",
        "#Se retorna el ingreso mensual del usuario según su plan de telefonía celular.\n",
        "    return surf_user_pay\n",
        "  else:\n",
        "#Con los límites de cada servicio y costos adicionales correspondientes al plan 'ultimate'\n",
        "#se calculan los ingresos mensuales de los usuarios de este plan.\n",
        "    dif_ultimate_calls=cont_neg_zero(plans.loc[1,\"minutes_included\"]-row[\"calls_duration\"])\n",
        "    dif_ultimate_msg=cont_neg_zero(plans.loc[1,\"messages_included\"]-row[\"messages_num\"])\n",
        "    dif_ultimate_int=cont_neg_zero((plans.loc[1,\"mb_per_month_included\"]/1024)-row[\"gb_volume\"])\n",
        "    ultimate_user_pay=(dif_ultimate_calls*plans.loc[1, \"usd_per_minute\"])+(dif_ultimate_msg*plans.loc[1, \"usd_per_message\"])+(dif_ultimate_int*plans.loc[1, \"usd_per_gb\"])+plans.loc[1,\"usd_monthly_pay\"]\n",
        "    return ultimate_user_pay\n",
        "\n",
        "#Se crea una columna con el ingreso del usuario para cada mes.\n",
        "#En este caso se utiliza una función de fila mediante el método \".apply()\"\n",
        "#Se aplica la función definida anteriormente para el cálculo de los ingresos mensuales del usuario.\n",
        "user_month_data[\"income\"]=user_month_data.apply(month_pay, axis=1)\n",
        "user_month_data.sample(10)"
      ]
    },
    {
      "cell_type": "markdown",
      "metadata": {
        "id": "-jtyHzJb0q1I"
      },
      "source": [
        "## Estudia el comportamiento de usuario"
      ]
    },
    {
      "cell_type": "markdown",
      "metadata": {
        "id": "AxU3Y0N70q1J"
      },
      "source": [
        "Para estudiar el comportamiento de los usuarios, se presentarán gráficas y estadísticas con el fin de describir y evaluar el consumo en cada uno de los servicios incluidos para cada plan de telefonía."
      ]
    },
    {
      "cell_type": "markdown",
      "metadata": {
        "id": "vtW4CJEe0q1J"
      },
      "source": [
        "### Llamadas"
      ]
    },
    {
      "cell_type": "code",
      "execution_count": 52,
      "metadata": {
        "colab": {
          "base_uri": "https://localhost:8080/",
          "height": 518
        },
        "id": "Jf5v5--k0q1J",
        "outputId": "fddf0ebb-e09e-4a66-bd80-890a23ea6722"
      },
      "outputs": [
        {
          "data": {
            "text/plain": [
              "<matplotlib.legend.Legend at 0x1dd31f28910>"
            ]
          },
          "execution_count": 52,
          "metadata": {},
          "output_type": "execute_result"
        },
        {
          "data": {
            "image/png": "[encoded data removed]",
            "text/plain": [
              "<Figure size 640x480 with 1 Axes>"
            ]
          },
          "metadata": {},
          "output_type": "display_data"
        }
      ],
      "source": [
        "# Compara la duración promedio de llamadas por cada plan y por cada mes. Traza un gráfico de barras para visualizarla.\n",
        "#Se utiliza un filtro para obtener la información de los usuarios con el plan 'surf'.\n",
        "surf_month=user_month_data[user_month_data[\"plan\"]==\"surf\"]\n",
        "#Mediante el método \".groupby()\" se agrupa la información para calcular el promedio\n",
        "#de la duración de las llamadas en cada mes de los usuarios con el plan 'surf'.\n",
        "surf_month_calls_dur_prom=surf_month.groupby(\"month\")[\"calls_duration\"].mean()\n",
        "#Se utiliza un filtro para obtener la información de los usuarios con el plan 'ultimate'.\n",
        "ultimate_month=user_month_data[user_month_data[\"plan\"]==\"ultimate\"]\n",
        "#Mediante el método \".groupby()\" se agrupa la información para calcular el promedio\n",
        "#de la duración de las llamadas en cada mes de los usuarios con el plan 'ultimate'.\n",
        "ultimate_month_calls_dur_prom=ultimate_month.groupby(\"month\")[\"calls_duration\"].mean()\n",
        "#Mediante el método \".concat()\" se unen las dos agrupaciones obtenidas.\n",
        "month_calls_dur=pd.concat([surf_month_calls_dur_prom,ultimate_month_calls_dur_prom], axis=\"columns\")\n",
        "#Se renombran las columnas para facilitar la identificación de los promedios mensuales\n",
        "#de la duración de llamadas de cada plan.\n",
        "month_calls_dur.columns=[\"surf\", \"ultimate\"]\n",
        "#Se procede a generar un gráfico de barras.\n",
        "month_calls_dur.plot(xlabel=\"Mes\", ylabel=\"Promedios de la duración de llamadas\", kind=\"bar\", grid=True, rot=60, color=[\"darkred\", \"green\"],\n",
        "                     title=\"Promedio de la duración de llamadas en cada plan por mes:\\nValores similares excepto en el mes de Febrero\")\n",
        "#Se asigna la leyenda para identificar las barras de cada plan.\n",
        "plt.legend([\"Surf\", \"Ultimate\"])"
      ]
    },
    {
      "cell_type": "markdown",
      "metadata": {
        "id": "frcXL9xafDou"
      },
      "source": [
        "A partir de la gráfica obtenida, podemos afirmar que en general el promedio de la duración de llamadas en cada mes de los dos planes es similar. Para la mayoría de los meses, la duración mensual de las llamadas está alrededor de los 400 minutos. El mes donde se presenta una diferencia notable en el promedio de la duración mensual de las llamadas entre los dos planes es en el mes de Febrero."
      ]
    },
    {
      "cell_type": "code",
      "execution_count": 53,
      "metadata": {
        "colab": {
          "base_uri": "https://localhost:8080/",
          "height": 533
        },
        "id": "QoLqW1S_0q1J",
        "outputId": "8e66aaba-e89d-4bbe-e583-eca08efa3a6f"
      },
      "outputs": [
        {
          "data": {
            "text/plain": [
              "<matplotlib.legend.Legend at 0x1dd33146c10>"
            ]
          },
          "execution_count": 53,
          "metadata": {},
          "output_type": "execute_result"
        },
        {
          "data": {
            "image/png": "[encoded data removed]",
            "text/plain": [
              "<Figure size 640x480 with 1 Axes>"
            ]
          },
          "metadata": {},
          "output_type": "display_data"
        }
      ],
      "source": [
        "# Compara el número de minutos mensuales que necesitan los usuarios de cada plan. Traza un histograma.\n",
        "#Se genera un histograma con la distribución del número de minutos mensuales\n",
        "#utilizados por los usuarios en cada plan.\n",
        "surf_month[\"calls_duration\"].plot(kind=\"hist\", color=\"darkred\", alpha=0.8)\n",
        "ultimate_month[\"calls_duration\"].plot(kind=\"hist\", color=\"green\", alpha=1, xlabel=\"Número de minutos mensuales\", ylabel=\"Frecuencia\",\n",
        "                                                title=\"Distribución del consumo mensual de minutos en cada plan:\\nLas distribuciones son similares\", grid=True, rot=60)\n",
        "#Se asigna la leyenda para identificar las barras de cada plan.\n",
        "plt.legend([\"Surf\", \"Ultimate\"])"
      ]
    },
    {
      "cell_type": "markdown",
      "metadata": {
        "id": "mUjX2INghMAt"
      },
      "source": [
        "Al observar la gráfica obtenida, podemos notar que las distibuciones son muy parecidas, por lo que esperaríamos que la media y la varianza sean similares. Evidentemente, se puede identificar por la frecuencia que la mayoría de los usuarios pertenecen al plan 'surf'. También, se puede evidenciar una cola a la derecha en ambas distribuciones, lo que indicaría un sesgo positivo y la existencia de valores atípicos."
      ]
    },
    {
      "cell_type": "code",
      "execution_count": 54,
      "metadata": {
        "colab": {
          "base_uri": "https://localhost:8080/"
        },
        "id": "oSndbAnt0q1K",
        "outputId": "6db50db1-8227-44d7-b827-c2f6ef3e7b33"
      },
      "outputs": [
        {
          "name": "stdout",
          "output_type": "stream",
          "text": [
            "Plan 'Surf':\n",
            "Media: 428.75\n",
            "Varianza: 54968.28\n",
            "\n",
            "Plan 'Ultimate':\n",
            "Media: 430.45\n",
            "Varianza: 57844.46\n"
          ]
        }
      ],
      "source": [
        "# Calcula la media y la varianza de la duración mensual de llamadas.\n",
        "#Con el método \".mean()\" se calcula el promedio de la duración mensual de llamadas\n",
        "#de los usuarios del plan 'surf'.\n",
        "surf_month_calls_dur_mean=surf_month[\"calls_duration\"].mean()\n",
        "#Con el método \".var()\" se calcula la varianza de la duración mensual de llamadas\n",
        "#de los usuarios del plan 'surf'.\n",
        "surf_month_calls_dur_var=surf_month[\"calls_duration\"].var()\n",
        "#Se imprimen los resultados.\n",
        "print(\"Plan 'Surf':\\nMedia: {:.2f}\\nVarianza: {:.2f}\\n\".format(surf_month_calls_dur_mean, surf_month_calls_dur_var))\n",
        "#Con el método \".mean()\" se calcula el promedio de la duración mensual de llamadas\n",
        "#de los usuarios del plan 'surf'.\n",
        "ultimate_month_calls_dur_mean=ultimate_month[\"calls_duration\"].mean()\n",
        "#Con el método \".var()\" se calcula la varianza de la duración mensual de llamadas\n",
        "#de los usuarios del plan 'surf'.\n",
        "ultimate_month_calls_dur_var=ultimate_month[\"calls_duration\"].var()\n",
        "#Se imprimen los resultados.\n",
        "print(\"Plan 'Ultimate':\\nMedia: {:.2f}\\nVarianza: {:.2f}\".format(ultimate_month_calls_dur_mean, ultimate_month_calls_dur_var))"
      ]
    },
    {
      "cell_type": "markdown",
      "metadata": {
        "id": "8hWVe2uEimlA"
      },
      "source": [
        "Como habíamos comentado anteriormente, el promedio y la varianza de ambas distribuciones son similares. De acuerdo con los promedios, podríamos afirmar en general el consumo de minutos mensuales podría ser cubierto con el plan 'surf'. Sin embargo, dado el sesgo positivo en las distribuciones podríamos esperar casos de usuarios de ambos planes con consumos mensuales superiores a los 500 minutos."
      ]
    },
    {
      "cell_type": "code",
      "execution_count": 55,
      "metadata": {
        "colab": {
          "base_uri": "https://localhost:8080/",
          "height": 495
        },
        "id": "sJBIbnu2ak24",
        "outputId": "9979442c-968b-40e3-8d1f-610636474d6a"
      },
      "outputs": [
        {
          "data": {
            "text/plain": [
              "Text(0.5, 1.0, '')"
            ]
          },
          "execution_count": 55,
          "metadata": {},
          "output_type": "execute_result"
        },
        {
          "data": {
            "image/png": "[encoded data removed]",
            "text/plain": [
              "<Figure size 640x480 with 1 Axes>"
            ]
          },
          "metadata": {},
          "output_type": "display_data"
        }
      ],
      "source": [
        "#Se genera un gráfico de la columna 'total_sales' agrupado por 'platform'\n",
        "user_month_data.boxplot(column=\"calls_duration\", by=\"plan\", xlabel=\"Planes\", ylabel=\"Duración de las llamadas\")\n",
        "#Se define el título principal\n",
        "plt.suptitle(\"Distribución de la duración de llamadas para cada plan:\\nLas distribuciones son parecidas\")\n",
        "#Se define el título secundario\n",
        "plt.title(\"\")"
      ]
    },
    {
      "cell_type": "code",
      "execution_count": 56,
      "metadata": {
        "colab": {
          "base_uri": "https://localhost:8080/",
          "height": 604
        },
        "id": "xjpbNQMHbxhH",
        "outputId": "5b10e4e2-cebb-4b11-a96a-f077e6e1400e"
      },
      "outputs": [
        {
          "name": "stderr",
          "output_type": "stream",
          "text": [
            "C:\\Users\\User\\AppData\\Local\\Temp\\ipykernel_9152\\1029977601.py:2: FutureWarning: \n",
            "\n",
            "Passing `palette` without assigning `hue` is deprecated and will be removed in v0.14.0. Assign the `x` variable to `hue` and set `legend=False` for the same effect.\n",
            "\n",
            "  sns.boxplot(x=\"plan\", y=\"calls_duration\", data=user_month_data, palette=[\"darkred\", \"green\"])\n"
          ]
        },
        {
          "data": {
            "image/png": "[encoded data removed]",
            "text/plain": [
              "<Figure size 640x480 with 1 Axes>"
            ]
          },
          "metadata": {},
          "output_type": "display_data"
        }
      ],
      "source": [
        "#Se genera un gráfico de la columna 'total_sales' agrupado por 'platform'\n",
        "sns.boxplot(x=\"plan\", y=\"calls_duration\", data=user_month_data, palette=[\"darkred\", \"green\"])\n",
        "#Se define la etiqueta del eje x\n",
        "plt.xlabel(\"Planes\")\n",
        "#Se define la etiqueta del eje y\n",
        "plt.ylabel(\"Duración de las llamadas\")\n",
        "#Se define el título principal\n",
        "plt.suptitle(\"Distribución de la duración de llamadas para cada plan:\\nLas distribuciones son parecidas\")\n",
        "#Se define el título secundario\n",
        "plt.title(\"\")\n",
        "#Se define la cuadrícula\n",
        "plt.grid(True, axis=\"y\", linestyle=\"--\", alpha=1.0)"
      ]
    },
    {
      "cell_type": "markdown",
      "metadata": {
        "id": "Y8fDND0lkN2L"
      },
      "source": [
        "Podemos ver que en esta gráfica también se aprecia un patrón similar entre las distribuciones, como hemos visto en gráficas y estadísticas anteriores. Esta gráfica también nos permite verificar la existencia de valores atípicos. En ambos planes, hay usuarios con consumos mensuales de llamadas extremos que solo pueden ser cubiertos con el límite del plan 'ultimate' para este servicio."
      ]
    },
    {
      "cell_type": "markdown",
      "metadata": {
        "id": "r627zBO50q1K"
      },
      "source": [
        "**Conclusiones: Consumo mensual de minutos de los usuarios de cada plan**  \n",
        "Teniendo en cuenta las gráficas y estadísticas presentadas, el comportamiento de los usuarios respecto a la duración mensual de las llamadas para los dos planes de telefonía es muy parecido. Teniendo en cuenta el promedio, el límite del plan 'surf' podría cubrir el consumo de este servicio para la mayoría de los usuarios. Pero dado que existen consumos atípicos que superan los 500 minutos, se recomendaría inscribirse al plan 'ultimate' para no incurrir en costos adicionales en este servicio."
      ]
    },
    {
      "cell_type": "markdown",
      "metadata": {
        "id": "8idKy8Wh0q1L"
      },
      "source": [
        "### Mensajes"
      ]
    },
    {
      "cell_type": "code",
      "execution_count": 57,
      "metadata": {
        "colab": {
          "base_uri": "https://localhost:8080/",
          "height": 518
        },
        "id": "NXLxiTit0q1L",
        "outputId": "39701965-084a-45e8-d7c7-478e74f004f7"
      },
      "outputs": [
        {
          "data": {
            "text/plain": [
              "<matplotlib.legend.Legend at 0x1dd33df79d0>"
            ]
          },
          "execution_count": 57,
          "metadata": {},
          "output_type": "execute_result"
        },
        {
          "data": {
            "image/png": "[encoded data removed]",
            "text/plain": [
              "<Figure size 640x480 with 1 Axes>"
            ]
          },
          "metadata": {},
          "output_type": "display_data"
        }
      ],
      "source": [
        "# Comprara el número de mensajes que tienden a enviar cada mes los usuarios de cada plan\n",
        "#Mediante el método \".groupby()\" se agrupa la información para calcular el promedio\n",
        "#del número de mensajes enviados en cada mes por los usuarios con el plan 'surf'.\n",
        "surf_month_msg_prom=surf_month.groupby(\"month\")[\"messages_num\"].mean()\n",
        "#Mediante el método \".groupby()\" se agrupa la información para calcular el promedio\n",
        "#del número de mensajes enviados en cada mes por los usuarios con el plan 'ultimate'.\n",
        "ultimate_month_msg_prom=ultimate_month.groupby(\"month\")[\"messages_num\"].mean()\n",
        "#Mediante el método \".concat()\" se unen las dos agrupaciones obtenidas.\n",
        "month_msg=pd.concat([surf_month_msg_prom,ultimate_month_msg_prom], axis=\"columns\")\n",
        "#Se renombran las columnas para facilitar la identificación de los promedios mensuales\n",
        "#del número de mensajes enviados de cada plan.\n",
        "month_msg.columns=[\"surf\", \"ultimate\"]\n",
        "#Se procede a generar un gráfico de barras.\n",
        "month_msg.plot(xlabel=\"Mes\", ylabel=\"Promedio de mensajes enviados\", kind=\"bar\", grid=True, rot=60, color=[\"darkred\", \"green\"],\n",
        "                     title=\"Promedio de mensajes enviados en cada plan por mes:\\nEn promedio, los usuarios del plan 'ultimate' envían más mensajes al mes\")\n",
        "#Se asigna la leyenda para identificar las barras de cada plan.\n",
        "plt.legend([\"Surf\", \"Ultimate\"])"
      ]
    },
    {
      "cell_type": "markdown",
      "metadata": {
        "id": "WukNkf_plWcI"
      },
      "source": [
        "A partir de la gráfica podemos observar que para cada mes, los usuarios del plan 'ultimate' envían más mensajes que los usuarios del plan 'surf'."
      ]
    },
    {
      "cell_type": "code",
      "execution_count": 58,
      "metadata": {
        "colab": {
          "base_uri": "https://localhost:8080/",
          "height": 526
        },
        "id": "GRI_R7xF0q1L",
        "outputId": "1c740a31-c3e9-46a6-854c-e26aabd4026b"
      },
      "outputs": [
        {
          "data": {
            "text/plain": [
              "<matplotlib.legend.Legend at 0x1dd32303110>"
            ]
          },
          "execution_count": 58,
          "metadata": {},
          "output_type": "execute_result"
        },
        {
          "data": {
            "image/png": "[encoded data removed]",
            "text/plain": [
              "<Figure size 640x480 with 1 Axes>"
            ]
          },
          "metadata": {},
          "output_type": "display_data"
        }
      ],
      "source": [
        "# Compara la cantidad de tráfico de Internet consumido por usuarios por plan\n",
        "#Se genera un histograma con la distribución del número de mensajes enviados\n",
        "#por los usuarios en cada plan.\n",
        "surf_month[\"messages_num\"].plot(kind=\"hist\", color=\"darkred\", alpha=0.8)\n",
        "ultimate_month[\"messages_num\"].plot(kind=\"hist\", color=\"green\", alpha=1, xlabel=\"Número de mensajes mensuales\", ylabel=\"Frecuencia\",\n",
        "                                                title=\"Distribución del número de mensajes enviados para cada plan:\\nLas distribuciones son parecidas\", grid=True, rot=60)\n",
        "#Se asigna la leyenda para identificar las barras de cada plan.\n",
        "plt.legend([\"Surf\", \"Ultimate\"])"
      ]
    },
    {
      "cell_type": "markdown",
      "metadata": {
        "id": "gFlwb4wplrzO"
      },
      "source": [
        "En esta gráfica podemos notar que las distibuciones son muy parecidas, por lo que esperaríamos que la media y la varianza sean similares. Por los valores de frecuencia se puede observar que la mayoría de los usuarios pertenecen al plan 'surf'. También, se puede evidenciar una cola a la derecha en ambas distribuciones, lo que indicaría un sesgo positivo y la existencia de valores atípicos."
      ]
    },
    {
      "cell_type": "code",
      "execution_count": 59,
      "metadata": {
        "colab": {
          "base_uri": "https://localhost:8080/"
        },
        "id": "dtFwCGAp0q1M",
        "outputId": "551fb98c-60a6-40be-e381-45236d93453b"
      },
      "outputs": [
        {
          "name": "stdout",
          "output_type": "stream",
          "text": [
            "Plan 'Surf':\n",
            "Media: 31.16\n",
            "Varianza: 1126.72\n",
            "\n",
            "Plan 'Ultimate':\n",
            "Media: 37.55\n",
            "Varianza: 1208.76\n"
          ]
        }
      ],
      "source": [
        "#Con el método \".mean()\" se calcula el promedio del número de mensajes enviados\n",
        "#por los usuarios del plan 'surf'.\n",
        "surf_month_msg_mean=surf_month[\"messages_num\"].mean()\n",
        "#Con el método \".var()\" se calcula la varianza del número de mensajes enviados\n",
        "#por los usuarios del plan 'surf'.\n",
        "surf_month_msg_var=surf_month[\"messages_num\"].var()\n",
        "#Se imprimen los resultados.\n",
        "print(\"Plan 'Surf':\\nMedia: {:.2f}\\nVarianza: {:.2f}\\n\".format(surf_month_msg_mean, surf_month_msg_var))\n",
        "#Con el método \".mean()\" se calcula el promedio del número de mensajes enviados\n",
        "#por los usuarios del plan 'ultimate'.\n",
        "ultimate_month_msg_mean=ultimate_month[\"messages_num\"].mean()\n",
        "#Con el método \".var()\" se calcula la varianza del número de mensajes enviados\n",
        "#por los usuarios del plan 'ultimate'.\n",
        "ultimate_month_msg_var=ultimate_month[\"messages_num\"].var()\n",
        "#Se imprimen los resultados.\n",
        "print(\"Plan 'Ultimate':\\nMedia: {:.2f}\\nVarianza: {:.2f}\".format(ultimate_month_msg_mean, ultimate_month_msg_var))"
      ]
    },
    {
      "cell_type": "markdown",
      "metadata": {
        "id": "RKR4r1VpmBrS"
      },
      "source": [
        "Como esperábamos, el promedio y la varianza de ambas distribuciones son similares. De acuerdo con los promedios, podríamos afirmar en general el número de mensajes enviados mensualmente podría cubrirse con el límite del plan 'surf'. Sin embargo, dado el sesgo positivo en las distribuciones podríamos esperar casos de usuarios que envían más de 50 mensajes al mes."
      ]
    },
    {
      "cell_type": "code",
      "execution_count": 60,
      "metadata": {
        "colab": {
          "base_uri": "https://localhost:8080/",
          "height": 495
        },
        "id": "44UqSNYfdSnS",
        "outputId": "42226246-591c-4eb6-fbcc-6967eb4f1029"
      },
      "outputs": [
        {
          "data": {
            "text/plain": [
              "Text(0.5, 1.0, '')"
            ]
          },
          "execution_count": 60,
          "metadata": {},
          "output_type": "execute_result"
        },
        {
          "data": {
            "image/png": "[encoded data removed]",
            "text/plain": [
              "<Figure size 640x480 with 1 Axes>"
            ]
          },
          "metadata": {},
          "output_type": "display_data"
        }
      ],
      "source": [
        "#Se genera un gráfico de la columna 'total_sales' agrupado por 'platform'\n",
        "user_month_data.boxplot(column=\"messages_num\", by=\"plan\", xlabel=\"Planes\", ylabel=\"Número de mensajes\")\n",
        "#Se define el título principal\n",
        "plt.suptitle(\"Distribución del número de mensajes enviados para cada plan:\\nHay diferencias notables en las cajas y en los valores máximos\")\n",
        "#Se define el título secundario\n",
        "plt.title(\"\")"
      ]
    },
    {
      "cell_type": "code",
      "execution_count": 61,
      "metadata": {
        "colab": {
          "base_uri": "https://localhost:8080/",
          "height": 604
        },
        "id": "ZusMo6ZVdrOh",
        "outputId": "6c17f9c3-7cb7-43db-dfd3-0575081e3e61"
      },
      "outputs": [
        {
          "name": "stderr",
          "output_type": "stream",
          "text": [
            "C:\\Users\\User\\AppData\\Local\\Temp\\ipykernel_9152\\2339120438.py:2: FutureWarning: \n",
            "\n",
            "Passing `palette` without assigning `hue` is deprecated and will be removed in v0.14.0. Assign the `x` variable to `hue` and set `legend=False` for the same effect.\n",
            "\n",
            "  sns.boxplot(x=\"plan\", y=\"messages_num\", data=user_month_data, palette=[\"darkred\", \"green\"])\n"
          ]
        },
        {
          "data": {
            "image/png": "[encoded data removed]",
            "text/plain": [
              "<Figure size 640x480 with 1 Axes>"
            ]
          },
          "metadata": {},
          "output_type": "display_data"
        }
      ],
      "source": [
        "#Se genera un gráfico de la columna 'total_sales' agrupado por 'platform'\n",
        "sns.boxplot(x=\"plan\", y=\"messages_num\", data=user_month_data, palette=[\"darkred\", \"green\"])\n",
        "#Se define la etiqueta del eje x\n",
        "plt.xlabel(\"Planes\")\n",
        "#Se define la etiqueta del eje y\n",
        "plt.ylabel(\"Número de mensajes\")\n",
        "#Se define el título principal\n",
        "plt.suptitle(\"Distribución del número de mensajes enviados para cada plan:\\nHay diferencias notables en las cajas y en los valores máximos\")\n",
        "#Se define el título secundario\n",
        "plt.title(\"\")\n",
        "#Se define la cuadrícula\n",
        "plt.grid(True, axis=\"y\", linestyle=\"--\", alpha=1.0)"
      ]
    },
    {
      "cell_type": "markdown",
      "metadata": {
        "id": "FduBPHILm5fO"
      },
      "source": [
        "Podríamos afirmar que las distribuciones a primera vista son similares, como hemos visto en gráficas y estadísticas anteriores, pero la caja superior en el plan 'ultimate' es notablemente más ancha que la caja inferior. Igualmente, el valor máximo en la distribución del plan 'ultimate' supera los 125 mensajes enviados. En la distribución del plan 'surf' podemos ver que las cajas tienen el mismo ancho y que el valor máximo no supera los 125 mensajes. En esta gráfica podemos confirmar la existencia de valores atípicos. En ambos planes, hay usuarios que envían más de 100 mensajes mensualmente, una cantidad que solo se puede cubrir con el límite del plan 'ultimate' para este servicio."
      ]
    },
    {
      "cell_type": "markdown",
      "metadata": {
        "id": "390SSL480q1M"
      },
      "source": [
        "**Conclusiones: Número de mensajes enviados mensualmente por los usuarios de cada plan**  \n",
        "A partir de las gráficas y estadísticas presentadas, a primera vista el comportamiento de los usuarios respecto al número de mensajes enviados mensualmente en los dos planes de telefonía es parecido. Sin embargo, como detallamos anteriormente en el gráfico de caja de las distribuciones para este servicio, se puede apreciar diferencias en el ancho de las cajas y los valores máximos entre ambas distribuciones. Esto tendría relación con la diferencia entre los promedios, como lo vimos también en el gráfico de barras donde el promedio de mensajes enviados en el plan 'ultimate' fue mayor al número del plan 'surf' en todos los meses. Para este servicio el plan 'surf' podría cubrir el número de mensajes enviados para la mayoría de los usuarios. Pero dado que existen consumos atípicos que superan los 50 mensajes, se recomendaría inscribirse al plan 'ultimate' para no incurrir en costos adicionales en este servicio."
      ]
    },
    {
      "cell_type": "markdown",
      "metadata": {
        "id": "42YSypXz0q1M"
      },
      "source": [
        "### Internet"
      ]
    },
    {
      "cell_type": "code",
      "execution_count": 62,
      "metadata": {
        "colab": {
          "base_uri": "https://localhost:8080/",
          "height": 518
        },
        "id": "lSuKPtjh0q1M",
        "outputId": "f5fe0322-42bc-4bc5-c1af-d9288f971ceb"
      },
      "outputs": [
        {
          "data": {
            "text/plain": [
              "<matplotlib.legend.Legend at 0x1dd34d43c50>"
            ]
          },
          "execution_count": 62,
          "metadata": {},
          "output_type": "execute_result"
        },
        {
          "data": {
            "image/png": "[encoded data removed]",
            "text/plain": [
              "<Figure size 640x480 with 1 Axes>"
            ]
          },
          "metadata": {},
          "output_type": "display_data"
        }
      ],
      "source": [
        "#Mediante el método \".groupby()\" se agrupa la información para calcular el promedio\n",
        "#de 'mb' utilizados en cada mes por los usuarios con el plan 'surf'.\n",
        "surf_month_gb_prom=surf_month.groupby(\"month\")[\"gb_volume\"].mean()\n",
        "#Mediante el método \".groupby()\" se agrupa la información para calcular el promedio\n",
        "#de 'mb' utilizados en cada mes por los usuarios con el plan 'ultimate'.\n",
        "ultimate_month_gb_prom=ultimate_month.groupby(\"month\")[\"gb_volume\"].mean()\n",
        "#Mediante el método \".concat()\" se unen las dos agrupaciones obtenidas.\n",
        "month_gb=pd.concat([surf_month_gb_prom,ultimate_month_gb_prom], axis=\"columns\")\n",
        "#Se renombran las columnas para facilitar la identificación de los promedios mensuales\n",
        "#de 'mb' utilizados de cada plan.\n",
        "month_gb.columns=[\"surf\", \"ultimate\"]\n",
        "#Se procede a generar un gráfico de barras.\n",
        "month_gb.plot(xlabel=\"Mes\", ylabel=\"Promedio de 'GB' utilizados\", kind=\"bar\", grid=True, rot=60, color=[\"darkred\", \"green\"],\n",
        "                     title=\"Promedio de 'GB' utilizados en cada plan por mes:\\nLos consumos se vuelven parecidos a partir de mitad de año\")\n",
        "#Se asigna la leyenda para identificar las barras de cada plan.\n",
        "plt.legend([\"Surf\", \"Ultimate\"])"
      ]
    },
    {
      "cell_type": "markdown",
      "metadata": {
        "id": "Zg9r1Wi8nSFI"
      },
      "source": [
        "En la gráfica podemos observar que en los primeros meses del año, existe un mayor consumo de internet en los usuarios del plan 'ultimate'. Alrededor de la mitad del año, los consumos se vuelven similares. En general, el consumo de los usuarios del plan 'ultimate' supera los 15 GB. Para la segunda mitad del año, los usuarios del plan 'surf' siguen esta tendencia, incurriendo en costos adicionales."
      ]
    },
    {
      "cell_type": "code",
      "execution_count": 63,
      "metadata": {
        "colab": {
          "base_uri": "https://localhost:8080/",
          "height": 518
        },
        "id": "wnh8jYXi0q1N",
        "outputId": "cdcf50b0-3e22-40ef-9fc2-52e7c43628bd"
      },
      "outputs": [
        {
          "data": {
            "text/plain": [
              "<matplotlib.legend.Legend at 0x1dd3451c7d0>"
            ]
          },
          "execution_count": 63,
          "metadata": {},
          "output_type": "execute_result"
        },
        {
          "data": {
            "image/png": "[encoded data removed]",
            "text/plain": [
              "<Figure size 640x480 with 1 Axes>"
            ]
          },
          "metadata": {},
          "output_type": "display_data"
        }
      ],
      "source": [
        "#Se genera un histograma con la distribución del número de 'mb' utilizados\n",
        "#por los usuarios en cada plan.\n",
        "surf_month[\"gb_volume\"].plot(kind=\"hist\", color=\"darkred\", alpha=0.8)\n",
        "ultimate_month[\"gb_volume\"].plot(kind=\"hist\", color=\"green\", alpha=1, xlabel=\"Número de 'GB' mensuales\", ylabel=\"Frecuencia\",\n",
        "                                                title=\"Distribución del número de 'GB' utilizados para cada plan:\\nLas distribuciones son parecidas\", grid=True, rot=60)\n",
        "#Se asigna la leyenda para identificar las barras de cada plan.\n",
        "plt.legend([\"Surf\", \"Ultimate\"])"
      ]
    },
    {
      "cell_type": "markdown",
      "metadata": {
        "id": "OSkU3sbxn_w9"
      },
      "source": [
        "En la gráfica podemos notar que nuevamente las distibuciones son muy parecidas, por lo que esperaríamos que la media y la varianza sean similares. Por los valores de frecuencia se puede observar que la mayoría de los usuarios pertenecen al plan 'surf'. También, se puede evidenciar una cola a la derecha en ambas distribuciones, lo que indicaría un sesgo positivo y la existencia de valores atípicos."
      ]
    },
    {
      "cell_type": "code",
      "execution_count": 64,
      "metadata": {
        "colab": {
          "base_uri": "https://localhost:8080/"
        },
        "id": "5VlyJ9ry0q1N",
        "outputId": "cd4b1814-8f08-4b7c-f6cb-cba997daa076"
      },
      "outputs": [
        {
          "name": "stdout",
          "output_type": "stream",
          "text": [
            "Plan 'Surf':\n",
            "Media: 16.67\n",
            "Varianza: 61.58\n",
            "\n",
            "Plan 'Ultimate':\n",
            "Media: 17.31\n",
            "Varianza: 58.83\n"
          ]
        }
      ],
      "source": [
        "#Con el método \".mean()\" se calcula el promedio de 'mb' utilizados\n",
        "#por los usuarios del plan 'surf'.\n",
        "surf_month_gb_mean=surf_month[\"gb_volume\"].mean()\n",
        "#Con el método \".var()\" se calcula la varianza de 'mb' utilizados\n",
        "#por los usuarios del plan 'surf'.\n",
        "surf_month_gb_var=surf_month[\"gb_volume\"].var()\n",
        "#Se imprimen los resultados.\n",
        "print(\"Plan 'Surf':\\nMedia: {:.2f}\\nVarianza: {:.2f}\\n\".format(surf_month_gb_mean, surf_month_gb_var))\n",
        "#Con el método \".mean()\" se calcula el promedio de 'mb' utilizados\n",
        "#por los usuarios del plan 'ultimate'.\n",
        "ultimate_month_gb_mean=ultimate_month[\"gb_volume\"].mean()\n",
        "#Con el método \".var()\" se calcula la varianza de 'mb' utilizados\n",
        "#por los usuarios del plan 'ultimate'.\n",
        "ultimate_month_gb_var=ultimate_month[\"gb_volume\"].var()\n",
        "#Se imprimen los resultados.\n",
        "print(\"Plan 'Ultimate':\\nMedia: {:.2f}\\nVarianza: {:.2f}\".format(ultimate_month_gb_mean, ultimate_month_gb_var))"
      ]
    },
    {
      "cell_type": "markdown",
      "metadata": {
        "id": "1qyYC07aoQkh"
      },
      "source": [
        "En efecto, el promedio y la varianza de ambas distribuciones son similares. De acuerdo con los promedios, podríamos afirmar en general, los usuarios del plan 'surf' exceden el límite de consumo de internet de su plan. Teniendo en cuenta el sesgo positivo en las distribuciones podríamos esperar casos de usuarios que gasten más de las 30GB que cubre el plan 'ultimate'."
      ]
    },
    {
      "cell_type": "code",
      "execution_count": 65,
      "metadata": {
        "colab": {
          "base_uri": "https://localhost:8080/",
          "height": 495
        },
        "id": "OE0MyPDoeZcC",
        "outputId": "043b946b-ebbd-44d5-ed5d-e70bc4c02eb6"
      },
      "outputs": [
        {
          "data": {
            "text/plain": [
              "Text(0.5, 1.0, '')"
            ]
          },
          "execution_count": 65,
          "metadata": {},
          "output_type": "execute_result"
        },
        {
          "data": {
            "image/png": "[encoded data removed]",
            "text/plain": [
              "<Figure size 640x480 with 1 Axes>"
            ]
          },
          "metadata": {},
          "output_type": "display_data"
        }
      ],
      "source": [
        "#Se genera un gráfico de la columna 'total_sales' agrupado por 'platform'\n",
        "user_month_data.boxplot(column=\"gb_volume\", by=\"plan\", xlabel=\"Planes\", ylabel=\"Número de 'GB' utilizados\")\n",
        "#Se define el título principal\n",
        "plt.suptitle(\"Distribución del número de 'GB' utilizados para cada plan:\\nLas distribuciones son parecidas\")\n",
        "#Se define el título secundario\n",
        "plt.title(\"\")"
      ]
    },
    {
      "cell_type": "code",
      "execution_count": 66,
      "metadata": {
        "colab": {
          "base_uri": "https://localhost:8080/",
          "height": 604
        },
        "id": "fYBK_sj2eeUb",
        "outputId": "1bc26eb3-c665-4304-fd3b-268d22165312"
      },
      "outputs": [
        {
          "name": "stderr",
          "output_type": "stream",
          "text": [
            "C:\\Users\\User\\AppData\\Local\\Temp\\ipykernel_9152\\2416916495.py:2: FutureWarning: \n",
            "\n",
            "Passing `palette` without assigning `hue` is deprecated and will be removed in v0.14.0. Assign the `x` variable to `hue` and set `legend=False` for the same effect.\n",
            "\n",
            "  sns.boxplot(x=\"plan\", y=\"gb_volume\", data=user_month_data, palette=[\"darkred\", \"green\"])\n"
          ]
        },
        {
          "data": {
            "image/png": "[encoded data removed]",
            "text/plain": [
              "<Figure size 640x480 with 1 Axes>"
            ]
          },
          "metadata": {},
          "output_type": "display_data"
        }
      ],
      "source": [
        "#Se genera un gráfico de la columna 'total_sales' agrupado por 'platform'\n",
        "sns.boxplot(x=\"plan\", y=\"gb_volume\", data=user_month_data, palette=[\"darkred\", \"green\"])\n",
        "#Se define la etiqueta del eje x\n",
        "plt.xlabel(\"Planes\")\n",
        "#Se define la etiqueta del eje y\n",
        "plt.ylabel(\"Número de 'GB' utilizados\")\n",
        "#Se define el título principal\n",
        "plt.suptitle(\"Distribución del número de 'GB' utilizados para cada plan:\\nLas distribuciones son parecidas\")\n",
        "#Se define el título secundario\n",
        "plt.title(\"\")\n",
        "#Se define la cuadrícula\n",
        "plt.grid(True, axis=\"y\", linestyle=\"--\", alpha=1.0)"
      ]
    },
    {
      "cell_type": "markdown",
      "metadata": {
        "id": "OVGxrahko4py"
      },
      "source": [
        "Podemos observar nuevamente en esta gráfica, que las distribuciones son similares, como hemos visto en gráficas y estadísticas anteriores. También, en esta gráfica podemos confirmar la existencia de valores atípicos. Particularmente, podemos observar que en la distribución del plan 'ultimate' existe un valor atípico por debajo del valor mínimo de la distribución. En ambos planes, hay usuarios que utilizan más de 30GB mensualmente. Esto indicaría que el internet es el servicio por el cual usuarios de ambos planes incurren en costos adicionales.\n",
        "\n"
      ]
    },
    {
      "cell_type": "markdown",
      "metadata": {
        "id": "UN9zwuMP0q1N"
      },
      "source": [
        "**Conclusiones: Consumo mensual de 'GB' de internet de los usuarios de cada plan:**  \n",
        "Con las gráficas y estadísticas obtenidas, se puede observar que el comportamiento de los usuarios respecto al consumo de GB de internet para los dos planes de telefonía es muy similar. Para este servicio el plan 'surf' sería insuficiente para cubrir el consumo para la mayoría de los usuarios. Por lo tanto se espera, que para muchos de los usuarios del plan 'surf' hayan costos adicionales por consumos superiores al límite de 15 GB de internet. En este caso, sería recomendable inscribirse al plan 'ultimate' para no incurrir en costos adicionales excesivos en este servicio."
      ]
    },
    {
      "cell_type": "markdown",
      "metadata": {
        "id": "tCijq3260q1N"
      },
      "source": [
        "## Ingreso"
      ]
    },
    {
      "cell_type": "markdown",
      "metadata": {
        "id": "9nq5IAcy0q1O"
      },
      "source": [
        "Luego de estudiar el comportamiento de los usuarios, vamos a determinar como sus patrones de consumo mensuales de cada servicio impactan el ingreso mensual para cada plan de telefonía."
      ]
    },
    {
      "cell_type": "code",
      "execution_count": 67,
      "metadata": {
        "colab": {
          "base_uri": "https://localhost:8080/",
          "height": 518
        },
        "id": "tz-dq_V00q1O",
        "outputId": "5fda5325-b637-4aab-bb5a-3ceb029d5095"
      },
      "outputs": [
        {
          "data": {
            "text/plain": [
              "<matplotlib.legend.Legend at 0x1dd3511b250>"
            ]
          },
          "execution_count": 67,
          "metadata": {},
          "output_type": "execute_result"
        },
        {
          "data": {
            "image/png": "[encoded data removed]",
            "text/plain": [
              "<Figure size 640x480 with 1 Axes>"
            ]
          },
          "metadata": {},
          "output_type": "display_data"
        }
      ],
      "source": [
        "#Mediante el método \".groupby()\" se agrupa la información para calcular el promedio\n",
        "#mensual de ingresos de los usuarios del plan'surf'.\n",
        "surf_month_in_prom=surf_month.groupby(\"month\")[\"income\"].mean()\n",
        "#Mediante el método \".groupby()\" se agrupa la información para calcular el promedio\n",
        "#mensual de ingresos de los usuarios del plan'ultimate'.\n",
        "ultimate_month_in_prom=ultimate_month.groupby(\"month\")[\"income\"].mean()\n",
        "#Mediante el método \".concat()\" se unen las dos agrupaciones obtenidas.\n",
        "month_in=pd.concat([surf_month_in_prom,ultimate_month_in_prom], axis=\"columns\")\n",
        "#Se renombran las columnas para facilitar la identificación de los promedios mensuales\n",
        "#de ingresos de los usuarios de cada plan.\n",
        "month_in.columns=[\"surf\", \"ultimate\"]\n",
        "#Se procede a generar un gráfico de barras.\n",
        "month_in.plot(xlabel=\"Mes\", ylabel=\"Promedio de ingresos de los usuarios\", kind=\"bar\", grid=True, rot=60, color=[\"darkred\", \"green\"],\n",
        "                     title=\"Promedio de ingresos de los usuarios de cada plan por mes:\\nLos ingresos promedios de los usuarios del plan 'ultimate' están alrededor de $70\")\n",
        "#Se asigna la leyenda para identificar las barras de cada plan.\n",
        "plt.legend([\"Surf\", \"Ultimate\"])"
      ]
    },
    {
      "cell_type": "markdown",
      "metadata": {
        "id": "uShkJCFqretH"
      },
      "source": [
        "En la gráfica observamos que el promedio de los ingresos mensuales de los usuarios del plan 'ultimate' está alrededor de los \\$70 en todos los meses. Para el caso de los usuarios del plan 'surf', solo en el primer mes el promedio de ingresos es de \\$20. Para el resto de los meses, el promedio siempre supera los \\$30, indicando costos adicionales considerables por superar los límites de los servicios incluidos en el plan."
      ]
    },
    {
      "cell_type": "code",
      "execution_count": 68,
      "metadata": {
        "colab": {
          "base_uri": "https://localhost:8080/",
          "height": 526
        },
        "id": "0Y1v8ZUz0q1P",
        "outputId": "60751ba6-eeea-4d3f-c176-bac76f9ca452"
      },
      "outputs": [
        {
          "data": {
            "text/plain": [
              "<matplotlib.legend.Legend at 0x1dd356c3d90>"
            ]
          },
          "execution_count": 68,
          "metadata": {},
          "output_type": "execute_result"
        },
        {
          "data": {
            "image/png": "[encoded data removed]",
            "text/plain": [
              "<Figure size 640x480 with 1 Axes>"
            ]
          },
          "metadata": {},
          "output_type": "display_data"
        }
      ],
      "source": [
        "#Se genera un histograma con la distribución de los ingresos mensuales\n",
        "#de los usuarios en cada plan.\n",
        "surf_month[\"income\"].plot(kind=\"hist\", color=\"darkred\", alpha=0.8)\n",
        "ultimate_month[\"income\"].plot(kind=\"hist\", color=\"green\", alpha=1, xlabel=\"Ingresos mensuales de los usuarios\", ylabel=\"Frecuencia\",\n",
        "                                                title=\"Distribución de los ingresos mensuales de los usuarios de cada plan:\\nLas distribuciones a primera vista son similares\", grid=True, rot=60)\n",
        "#Se asigna la leyenda para identificar las barras de cada plan.\n",
        "plt.legend([\"Surf\", \"Ultimate\"])"
      ]
    },
    {
      "cell_type": "markdown",
      "metadata": {
        "id": "6TlB0F1Cw_Gh"
      },
      "source": [
        "Al observar la gráfica podríamos decir que las distribuciones son muy parecidas, pero teniendo en cuenta la gráfica anterior, es muy posible que los promedios y varianzas no sean similares. Por los valores de frecuencia se puede observar que la mayoría de los usuarios pertenecen al plan 'surf'. También, se puede evidenciar una cola a la derecha en ambas distribuciones, lo que indicaría un sesgo positivo y la existencia de valores atípicos."
      ]
    },
    {
      "cell_type": "code",
      "execution_count": 69,
      "metadata": {
        "colab": {
          "base_uri": "https://localhost:8080/"
        },
        "id": "bYmwxyVh0q1P",
        "outputId": "cee96621-ec64-475b-fdd5-be4b48cd38e4"
      },
      "outputs": [
        {
          "name": "stdout",
          "output_type": "stream",
          "text": [
            "Plan 'Surf':\n",
            "Media: 60.71\n",
            "Varianza: 3067.84\n",
            "\n",
            "Plan 'Ultimate':\n",
            "Media: 72.31\n",
            "Varianza: 129.85\n"
          ]
        }
      ],
      "source": [
        "#Con el método \".mean()\" se calcula el promedio de los ingresos\n",
        "#de los usuarios del plan 'surf'.\n",
        "surf_month_in_mean=surf_month[\"income\"].mean()\n",
        "#Con el método \".var()\" se calcula la varianza de los ingresos\n",
        "#de los usuarios del plan 'surf'.\n",
        "surf_month_in_var=surf_month[\"income\"].var()\n",
        "#Se imprimen los resultados.\n",
        "print(\"Plan 'Surf':\\nMedia: {:.2f}\\nVarianza: {:.2f}\\n\".format(surf_month_in_mean, surf_month_in_var))\n",
        "#Con el método \".mean()\" se calcula el promedio de los ingresos\n",
        "#de los usuarios del plan 'ultimate'.\n",
        "ultimate_month_in_mean=ultimate_month[\"income\"].mean()\n",
        "#Con el método \".var()\" se calcula la varianza de los ingresos\n",
        "#de los usuarios del plan 'ultimate'.\n",
        "ultimate_month_in_var=ultimate_month[\"income\"].var()\n",
        "#Se imprimen los resultados.\n",
        "print(\"Plan 'Ultimate':\\nMedia: {:.2f}\\nVarianza: {:.2f}\".format(ultimate_month_in_mean, ultimate_month_in_var))"
      ]
    },
    {
      "cell_type": "markdown",
      "metadata": {
        "id": "2Koh915vxdUH"
      },
      "source": [
        "Como se había comentado anteriormente, los valores de promedios y varianzas no son similares. El promedio de ingresos mensuales de los usuarios del plan 'ultimate' es cercano al valor mensual del plan (\\$70), pero en el caso de los usuarios del plan 'surf' el ingreso mensual promedio es el triple del valor mensual del plan (\\$20). También observamos que la varianza de los ingresos mensuales para los usuarios del plan 'surf' es considerablemente mayor que la varianza para los ususarios del plan 'ultimate'. Esto indicaría una mayor dispersión en la distribución de los ingresos mensuales de los usuarios del plan 'surf'."
      ]
    },
    {
      "cell_type": "code",
      "execution_count": null,
      "metadata": {
        "id": "1TZP_cNqfIcI"
      },
      "outputs": [],
      "source": []
    },
    {
      "cell_type": "code",
      "execution_count": 70,
      "metadata": {
        "colab": {
          "base_uri": "https://localhost:8080/",
          "height": 495
        },
        "id": "bRyyEYw2fIz5",
        "outputId": "4720920f-2ba2-4146-de27-0855ffd1c481"
      },
      "outputs": [
        {
          "data": {
            "text/plain": [
              "Text(0.5, 1.0, '')"
            ]
          },
          "execution_count": 70,
          "metadata": {},
          "output_type": "execute_result"
        },
        {
          "data": {
            "image/png": "[encoded data removed]",
            "text/plain": [
              "<Figure size 640x480 with 1 Axes>"
            ]
          },
          "metadata": {},
          "output_type": "display_data"
        }
      ],
      "source": [
        "#Se genera un gráfico de la columna 'total_sales' agrupado por 'platform'\n",
        "user_month_data.boxplot(column=\"income\", by=\"plan\", xlabel=\"Planes\", ylabel=\"Ingresos mensuales de los usuarios\")\n",
        "#Se define el título principal\n",
        "plt.suptitle(\"Distribución de los ingresos mensuales de los usuarios de cada plan:\\nSe aprecia notablemente la diferencia en las distribuciones\")\n",
        "#Se define el título secundario\n",
        "plt.title(\"\")"
      ]
    },
    {
      "cell_type": "code",
      "execution_count": 71,
      "metadata": {
        "colab": {
          "base_uri": "https://localhost:8080/",
          "height": 604
        },
        "id": "twOh3iySfOOP",
        "outputId": "18b2b68e-4d91-488e-921a-195509b0f45c"
      },
      "outputs": [
        {
          "name": "stderr",
          "output_type": "stream",
          "text": [
            "C:\\Users\\User\\AppData\\Local\\Temp\\ipykernel_9152\\3097740959.py:2: FutureWarning: \n",
            "\n",
            "Passing `palette` without assigning `hue` is deprecated and will be removed in v0.14.0. Assign the `x` variable to `hue` and set `legend=False` for the same effect.\n",
            "\n",
            "  sns.boxplot(x=\"plan\", y=\"income\", data=user_month_data, palette=[\"darkred\", \"green\"])\n"
          ]
        },
        {
          "data": {
            "image/png": "[encoded data removed]",
            "text/plain": [
              "<Figure size 640x480 with 1 Axes>"
            ]
          },
          "metadata": {},
          "output_type": "display_data"
        }
      ],
      "source": [
        "#Se genera un gráfico de la columna 'total_sales' agrupado por 'platform'\n",
        "sns.boxplot(x=\"plan\", y=\"income\", data=user_month_data, palette=[\"darkred\", \"green\"])\n",
        "#Se define la etiqueta del eje x\n",
        "plt.xlabel(\"Planes\")\n",
        "#Se define la etiqueta del eje y\n",
        "plt.ylabel(\"Ingresos mensuales de los usuarios\")\n",
        "#Se define el título principal\n",
        "plt.suptitle(\"Distribución de los ingresos mensuales de los usuarios de cada plan:\\nSe aprecia notablemente la diferencia en las distribuciones\")\n",
        "#Se define el título secundario\n",
        "plt.title(\"\")\n",
        "#Se define la cuadrícula\n",
        "plt.grid(True, axis=\"y\", linestyle=\"--\", alpha=1.0)"
      ]
    },
    {
      "cell_type": "markdown",
      "metadata": {
        "id": "ZoRoV3C6y78V"
      },
      "source": [
        "En esta gráfica podemos confirmar la existencia de valores atípicos. Para la distribución de los ingresos mensuales de los usuarios del plan 'ultimate' confirmamos que la mayoría de los registros se encuentran concentrados alrededor de los \\$70. En el caso de la distribución de los ingresos mensuales de los usuarios del plan 'surf', podemos ver que existe un mayor grado de dispersión y que la mayoría de los registros superan los \\$20 y en algunos casos extremos superan incluso los \\$200."
      ]
    },
    {
      "cell_type": "markdown",
      "metadata": {
        "id": "KAFidcXZ0q1P"
      },
      "source": [
        "**Conclusiones: Ingresos promedios mensuales de los usuarios de cada plan**  \n",
        "Se puede concluir a partir de las gráficas y estadísticas presentadas que las distribuciones de ingresos mensuales de los planes no son similares. En el caso del plan 'ultimate' no se presenta mucha variación respecto al valor base del plan. Esto se puede apreciar en la gráfica de barras y en la gráfica de caja. Adicionalmente, podemos ver que la varianza no es tan alta como en el otro plan. Esto indica que son muy pocos los usuarios que exceden los límites de consumo de los servicios de telefonía. Para el plan 'surf' se puede observar una mayor variación en los ingresos mensuales y que en la mayoría de los casos supera notablemente el valor base del plan. Este comportamiento debe ser causado porque los usuarios superan excesivamente los límites de los servicios, lo que genera el aumento sustancial del ingreso mensual. Comparando los resultados para cada servicio, el consumo de internet debe ser el que genera un aumento de mayor magnitud teniendo en cuenta que la mayoría de los promedios mensuales y el promedio de la distribución en el plan 'surf' superan el límite de 15 GB."
      ]
    },
    {
      "cell_type": "markdown",
      "metadata": {
        "id": "ajJ7VKeI0q1Q"
      },
      "source": [
        "## Prueba las hipótesis estadísticas"
      ]
    },
    {
      "cell_type": "markdown",
      "metadata": {
        "id": "IQwa_hsh0q1Q"
      },
      "source": [
        "**Ingresos promedios mensuales de cada plan**  \n",
        "Ahora vamos a determinar estadísticamente si hay diferencia significativa entre los promedios de los ingresos mensuales de los usuarios de los planes de telefonía 'surf' y 'ultimate'. A continuación, presentamos la formulación de la prueba de hipótesis que se llevará a cabo.  \n",
        "**Prueba de hipótesis.**  \n",
        "**Hipótesis Nula $H_{0}$**: El ingreso promedio de los usuarios del plan de telefonía *surf* es igual al ingreso promedio de los usuarios del plan de telefonía *ultimate*.   \n",
        "**Hipótesis Alternativa $H_{1}$**: El ingreso promedio de los usuarios del plan de telefonía *surf* es diferente al ingreso promedio de los usuarios del plan de telefonía *ultimate*.  \n",
        "**Prueba estadística**: Prueba *t* bilateral.  \n",
        "**Valor alfa**: $\\alpha=0.01$"
      ]
    },
    {
      "cell_type": "code",
      "execution_count": 72,
      "metadata": {
        "colab": {
          "base_uri": "https://localhost:8080/"
        },
        "id": "nFoPNlPq0q1R",
        "outputId": "2643bb13-2b89-4df1-db24-6fc1ec22ca2a"
      },
      "outputs": [
        {
          "name": "stdout",
          "output_type": "stream",
          "text": [
            "Se rechaza H₀\n"
          ]
        }
      ],
      "source": [
        "# Prueba las hipótesis\n",
        "#H_0: Los promedios son iguales\n",
        "#H_1: Los promedios son diferentes\n",
        "#t-student/dos colas\n",
        "#Valor de alpha\n",
        "alpha=0.01\n",
        "#Prueba t-student para los promedios de dos muestras diferentes\n",
        "user_income_mean=st.ttest_ind(surf_month[\"income\"], ultimate_month[\"income\"], equal_var=False)\n",
        "#Comparación p-vlue y alpha\n",
        "if user_income_mean.pvalue<alpha:\n",
        "  print(\"Se rechaza H\\N{SUBSCRIPT ZERO}\")\n",
        "else:\n",
        "  print(\"No se rechaza H\\N{SUBSCRIPT ZERO}\")\n",
        "#Hay diferencia significativa\n",
        "#Los promedios son diferentes\n",
        "#user_income_mean.pvalue"
      ]
    },
    {
      "cell_type": "markdown",
      "metadata": {
        "id": "PZ4cgXmLYXNp"
      },
      "source": [
        "De acuerdo con la prueba de hipótesis realizada, se rechaza la hipótesis nula $H_{0}$ dado que existe diferencia estadísticamente significativa entre los dos ingresos promedios. Por lo tanto, se prueba que los ingresos promedio de los usuarios del plan 'surf' son diferentes a los ingresos promedio de los usuarios del plan 'ultimate'. Para esta prueba definimos el parámetro 'equal_var' igual a *False*, dado que conocíamos previamente que las varianzas eran notablemente diferentes."
      ]
    },
    {
      "cell_type": "markdown",
      "metadata": {
        "id": "LsBgitqj0q1R"
      },
      "source": [
        "**Ingresos promedios mensuales del área NY-NJ y otras regiones**  \n",
        "Adicionalmente, vamos a comprobar estadísticamente si hay diferencia significativa entre los promedios de los ingresos mensuales de los usuarios que pertenecen al área 'NY-NJ' y los usuarios de otras regiones. Como hicimos anteriormente, presentamos la formulación de la prueba de hipótesis que se llevará a cabo.  \n",
        "**Prueba de hipótesis.**  \n",
        "**Hipótesis Nula $H_{0}$**: El ingreso promedio de los usuarios del área NY-NJ es igual al ingreso promedio de los usuarios de otra regiones.   \n",
        "**Hipótesis Alternativa $H_{1}$**: El ingreso promedio de los usuarios del área NY-NJ es diferente al ingreso promedio de los usuarios de otra regiones.   \n",
        "**Prueba estadística**: Prueba *t* bilateral.  \n",
        "**Valor alfa**: $\\alpha=0.01$"
      ]
    },
    {
      "cell_type": "code",
      "execution_count": 73,
      "metadata": {
        "id": "OSHtqv53POPB"
      },
      "outputs": [],
      "source": [
        "#Definimos el valor de la columna \"city\" que corresponde a los usuarios del área NY-NJ\n",
        "NY_NJ=\"New York-Newark-Jersey City, NY-NJ-PA MSA\"\n",
        "#Mediante un filtro obtenemos un dataframe con la información de los usuarios del área NY-NJ\n",
        "NY_NJ_pop_data=user_month_data[user_month_data[\"city\"]==NY_NJ]\n",
        "#Mediante un filtro obtenemos un dataframe con la información de los usuarios\n",
        "#que pertenecen a las otras regiones\n",
        "other_msa_pop_data=user_month_data[user_month_data[\"city\"]!=NY_NJ]"
      ]
    },
    {
      "cell_type": "code",
      "execution_count": 74,
      "metadata": {
        "colab": {
          "base_uri": "https://localhost:8080/"
        },
        "id": "Cqcj7wrZ0q1S",
        "outputId": "73d2e108-9c66-4258-c15e-224151be8894"
      },
      "outputs": [
        {
          "name": "stdout",
          "output_type": "stream",
          "text": [
            "No se rechaza H₀\n"
          ]
        }
      ],
      "source": [
        "# Prueba las hipótesis\n",
        "#H_0: Los promedios son iguales\n",
        "#H_1: Los promedios son diferentes\n",
        "#t-student/dos colas\n",
        "#Valor de alpha\n",
        "alpha=0.01\n",
        "#Prueba t-student para los promedios de dos muestras diferentes\n",
        "msa_income_mean=st.ttest_ind(NY_NJ_pop_data[\"income\"], other_msa_pop_data[\"income\"], equal_var=True)\n",
        "#Comparación p-vlue y alpha\n",
        "if msa_income_mean.pvalue<alpha:\n",
        "  print(\"Se rechaza H\\N{SUBSCRIPT ZERO}\")\n",
        "else:\n",
        "  print(\"No se rechaza H\\N{SUBSCRIPT ZERO}\")\n",
        "#Hay diferencia significativa\n",
        "#Los promedios son diferentes\n",
        "#msa_income_mean.pvalue"
      ]
    },
    {
      "cell_type": "markdown",
      "metadata": {
        "id": "xFV-nf7IYocx"
      },
      "source": [
        "De acuerdo con la prueba de hipótesis realizada, no existe una diferencia estadísticamente significativa entre los dos ingresos promedios que nos permita rechazar la hipótesis nula $H_{0}$. Por lo tanto, no es posible afirmar que los ingresos promedio de los usuarios del área NY-NJ son diferentes a los ingresos promedio de los usuarios del resto de áreas. Para esta prueba definimos el parámetro 'equal_var' igual a *True*, partiendo de la suposición de que ambas distribuciones tienen parámetros similares."
      ]
    },
    {
      "cell_type": "markdown",
      "metadata": {
        "id": "bbTR8UQO0q1T"
      },
      "source": [
        "## Conclusión general\n",
        "1. No hubo necesidad de pre-procesar extensamente los datos dado que los nombres de las columnas tenían el formato apropiado,  no habían registros duplicados y de todos los dataframes solo uno contaba con una columna con valores ausentes. En este caso, no se reemplazaron porque es la manera de indicar que el usuario se encuentra activo. En caso de ser necesario evaluar alguna estadística con fechas de desactivación o usuarios activos, se hubieran reemplazado para facilitar el acceso y extracción de datos correspondientes.\n",
        "2. Particularmente se concentraron esfuerzos en convertir todas las columnas con información de fechas al tipo de dato 'datetime'. De esta manera se facilitó el acceso y extracción de estadísticas mensuales para el comportamiento de los usuarios.\n",
        "3. Se observó que en general se repetían los patrones de consumos de los usuarios para los servicios estudiados de cada plan. A pesar de esto, los ingresos promedio mensuales de cada plan diferían notablemente.\n",
        "4. Con una prueba estadística se comprobó que los ingresos promedios mensuales para cada plan son diferentes. De acuerdo con las gráficas y estadísticas calculadas, se puede afirmar que el plan que genera mayor cantidad de ingresos promedios es el plan 'ultimate'. Aún así, se podría plantear una prueba adicional para verificar estadísticamente que el ingreso promedio mensual del plan 'ultimate' es significativamente mayor que el ingreso promedio mensual del plan 'surf'.\n",
        "5. Se concluye que el presupuesto de publicidad debería ser destinado a promover que tanto usuarios nuevos como pertenecientes al plan 'surf' tomen el plan 'ultimate'. Se puede presentar información que demuestre que con el plan 'ultimate' se pueden reducir los costos adicionales por excesos en los consumos de servicio. Así el operador aumentará sus ingresos con el incremento de usuarios con el plan 'ultimate', partiendo solo del costo base del plan.\n",
        "6. Respecto al análisis entre los ingresos promedios mensuales entre regiones del país, vemos que significativamente no hay diferencia. Esto puede deberse a que la proporción de usuarios con el plan 'surf' y 'ultimate' es muy parecida entre las regiones. Este acercamiento inicial indicaría que no se debería presentar una campaña publicitaria específica para cada región. Sin embargo, se podría hacer un análisis de los comportamientos de los usuarios por región para tener mayor certeza. Lo anterior sería útil también para realizar pruebas estadísticas. En esta en particular se asumió que las varianzas entre las dos muestras eran iguales dado que no teníamos información estadística disponible y suponemos que la ubicación geográfica no implica cambios en los consumos estándares de los usuarios."
      ]
    }
  ],
  "metadata": {
    "ExecuteTimeLog": [
      {
        "duration": 828,
        "start_time": "2021-11-16T09:21:11.304Z"
      },
      {
        "duration": 893,
        "start_time": "2021-11-16T09:21:17.728Z"
      },
      {
        "duration": 1150,
        "start_time": "2021-11-16T09:21:29.568Z"
      },
      {
        "duration": 3,
        "start_time": "2021-11-16T09:24:14.495Z"
      },
      {
        "duration": 120,
        "start_time": "2021-11-16T09:24:46.630Z"
      },
      {
        "duration": 3,
        "start_time": "2021-11-16T09:28:27.882Z"
      },
      {
        "duration": 4,
        "start_time": "2021-11-16T09:29:54.281Z"
      },
      {
        "duration": 3,
        "start_time": "2021-11-16T09:30:45.936Z"
      },
      {
        "duration": 4,
        "start_time": "2021-11-16T09:31:06.300Z"
      },
      {
        "duration": 113,
        "start_time": "2021-11-16T09:31:37.208Z"
      },
      {
        "duration": 143,
        "start_time": "2021-11-16T09:31:48.656Z"
      },
      {
        "duration": 98,
        "start_time": "2021-11-16T09:31:55.678Z"
      },
      {
        "duration": 3,
        "start_time": "2021-11-16T09:32:08.535Z"
      },
      {
        "duration": 111,
        "start_time": "2021-11-16T09:32:10.120Z"
      },
      {
        "duration": 3,
        "start_time": "2021-11-16T09:32:15.732Z"
      },
      {
        "duration": 4,
        "start_time": "2021-11-16T09:32:29.423Z"
      },
      {
        "duration": 3,
        "start_time": "2021-11-16T10:03:03.074Z"
      },
      {
        "duration": 3,
        "start_time": "2021-11-16T10:10:01.288Z"
      },
      {
        "duration": 3,
        "start_time": "2021-11-16T10:10:46.923Z"
      },
      {
        "duration": 121,
        "start_time": "2021-11-16T10:37:46.494Z"
      },
      {
        "duration": 125,
        "start_time": "2021-11-16T10:38:20.632Z"
      },
      {
        "duration": 112,
        "start_time": "2021-11-16T10:46:53.001Z"
      },
      {
        "duration": 110,
        "start_time": "2021-11-16T10:48:25.775Z"
      },
      {
        "duration": 3,
        "start_time": "2021-11-16T10:50:18.720Z"
      },
      {
        "duration": 4,
        "start_time": "2021-11-16T10:50:37.649Z"
      },
      {
        "duration": 2,
        "start_time": "2021-11-16T10:50:51.884Z"
      },
      {
        "duration": 3,
        "start_time": "2021-11-16T10:51:56.237Z"
      },
      {
        "duration": 101,
        "start_time": "2021-11-16T10:53:13.791Z"
      },
      {
        "duration": 3,
        "start_time": "2021-11-16T10:55:59.186Z"
      },
      {
        "duration": 3,
        "start_time": "2021-11-16T10:56:10.751Z"
      },
      {
        "duration": 3,
        "start_time": "2021-11-16T10:56:49.038Z"
      },
      {
        "duration": 3,
        "start_time": "2021-11-16T10:56:49.174Z"
      },
      {
        "duration": 4,
        "start_time": "2021-11-16T10:56:49.414Z"
      },
      {
        "duration": 3,
        "start_time": "2021-11-16T10:56:49.680Z"
      },
      {
        "duration": 3,
        "start_time": "2021-11-16T10:56:50.370Z"
      },
      {
        "duration": 114,
        "start_time": "2021-11-16T10:59:34.518Z"
      },
      {
        "duration": 3,
        "start_time": "2021-11-16T11:01:41.201Z"
      },
      {
        "duration": 116,
        "start_time": "2021-11-16T11:01:48.754Z"
      },
      {
        "duration": 3,
        "start_time": "2021-11-16T11:02:16.685Z"
      },
      {
        "duration": 3,
        "start_time": "2021-11-16T11:02:19.479Z"
      },
      {
        "duration": 3,
        "start_time": "2021-11-16T11:02:47.067Z"
      },
      {
        "duration": 3,
        "start_time": "2021-11-16T11:02:49.353Z"
      },
      {
        "duration": 3,
        "start_time": "2021-11-16T11:03:07.835Z"
      },
      {
        "duration": 3,
        "start_time": "2021-11-16T11:03:07.953Z"
      },
      {
        "duration": 112,
        "start_time": "2021-11-16T11:07:52.072Z"
      },
      {
        "duration": 187,
        "start_time": "2021-11-16T11:09:23.468Z"
      },
      {
        "duration": 4,
        "start_time": "2021-11-16T11:10:01.455Z"
      },
      {
        "duration": 3,
        "start_time": "2021-11-16T11:10:05.069Z"
      },
      {
        "duration": 4,
        "start_time": "2021-11-16T11:10:13.376Z"
      },
      {
        "duration": 3,
        "start_time": "2021-11-16T11:10:14.434Z"
      },
      {
        "duration": 3,
        "start_time": "2021-11-16T11:10:22.853Z"
      },
      {
        "duration": 4,
        "start_time": "2021-11-16T11:27:29.279Z"
      },
      {
        "duration": 4,
        "start_time": "2021-11-16T11:29:08.919Z"
      },
      {
        "duration": 118,
        "start_time": "2021-11-16T11:29:46.703Z"
      },
      {
        "duration": 437,
        "start_time": "2021-11-16T11:36:02.181Z"
      },
      {
        "duration": 157,
        "start_time": "2021-11-16T11:36:14.388Z"
      },
      {
        "duration": 207,
        "start_time": "2021-11-16T11:47:15.898Z"
      },
      {
        "duration": 3,
        "start_time": "2021-11-16T11:53:52.092Z"
      },
      {
        "duration": 3,
        "start_time": "2021-11-16T11:53:52.236Z"
      },
      {
        "duration": 3,
        "start_time": "2021-11-16T11:59:12.005Z"
      },
      {
        "duration": 112,
        "start_time": "2021-11-16T12:00:33.446Z"
      },
      {
        "duration": 3,
        "start_time": "2021-11-16T12:02:14.453Z"
      },
      {
        "duration": 3,
        "start_time": "2021-11-16T12:02:39.512Z"
      },
      {
        "duration": 106,
        "start_time": "2021-11-16T12:03:03.460Z"
      },
      {
        "duration": 3,
        "start_time": "2021-11-17T20:37:21.139Z"
      },
      {
        "duration": 3,
        "start_time": "2021-11-17T20:37:22.229Z"
      },
      {
        "duration": 3,
        "start_time": "2021-11-17T20:38:38.806Z"
      },
      {
        "duration": 3,
        "start_time": "2021-11-17T20:38:41.958Z"
      },
      {
        "duration": 3,
        "start_time": "2021-11-17T20:43:46.551Z"
      },
      {
        "duration": 4,
        "start_time": "2021-11-17T20:58:21.835Z"
      },
      {
        "duration": 3,
        "start_time": "2021-11-17T20:59:21.872Z"
      },
      {
        "duration": 4,
        "start_time": "2021-11-17T20:59:45.352Z"
      },
      {
        "duration": 4,
        "start_time": "2021-11-17T20:59:49.646Z"
      },
      {
        "duration": 159,
        "start_time": "2021-11-17T21:02:26.949Z"
      },
      {
        "duration": 3,
        "start_time": "2021-11-17T21:03:53.461Z"
      },
      {
        "duration": 3,
        "start_time": "2021-11-17T21:03:53.694Z"
      },
      {
        "duration": 3,
        "start_time": "2021-11-17T21:05:28.145Z"
      },
      {
        "duration": 116,
        "start_time": "2021-11-17T21:05:57.787Z"
      },
      {
        "duration": 3,
        "start_time": "2021-11-17T21:06:37.993Z"
      },
      {
        "duration": 3,
        "start_time": "2021-11-17T21:06:38.261Z"
      },
      {
        "duration": 3,
        "start_time": "2021-11-17T21:11:54.358Z"
      },
      {
        "duration": 3,
        "start_time": "2021-11-17T21:12:43.846Z"
      },
      {
        "duration": 4,
        "start_time": "2021-11-17T21:13:08.773Z"
      },
      {
        "duration": 3,
        "start_time": "2021-11-17T21:14:44.441Z"
      },
      {
        "duration": 3,
        "start_time": "2021-11-17T21:15:42.059Z"
      },
      {
        "duration": 4,
        "start_time": "2021-11-17T21:15:51.995Z"
      },
      {
        "duration": 3,
        "start_time": "2021-11-17T21:15:53.923Z"
      },
      {
        "duration": 3,
        "start_time": "2021-11-17T21:15:55.282Z"
      },
      {
        "duration": 3,
        "start_time": "2021-11-17T21:16:28.492Z"
      },
      {
        "duration": 3,
        "start_time": "2021-11-17T21:16:32.603Z"
      },
      {
        "duration": 3,
        "start_time": "2021-11-17T21:17:06.941Z"
      },
      {
        "duration": 98,
        "start_time": "2021-11-17T21:18:05.733Z"
      },
      {
        "duration": 4,
        "start_time": "2021-11-17T21:21:35.255Z"
      },
      {
        "duration": 3,
        "start_time": "2021-11-17T21:21:37.804Z"
      },
      {
        "duration": 4,
        "start_time": "2021-11-17T21:23:06.071Z"
      },
      {
        "duration": 3,
        "start_time": "2021-11-17T21:23:24.799Z"
      },
      {
        "duration": 3,
        "start_time": "2021-11-17T21:23:32.591Z"
      },
      {
        "duration": 98,
        "start_time": "2021-11-17T21:28:31.559Z"
      },
      {
        "duration": 3,
        "start_time": "2021-11-17T21:28:45.448Z"
      },
      {
        "duration": 3,
        "start_time": "2021-11-17T21:29:17.303Z"
      },
      {
        "duration": 3,
        "start_time": "2021-11-17T21:29:29.617Z"
      },
      {
        "duration": 3,
        "start_time": "2021-11-17T21:29:32.681Z"
      },
      {
        "duration": 3,
        "start_time": "2021-11-17T21:36:11.474Z"
      },
      {
        "duration": 3,
        "start_time": "2021-11-17T21:36:14.791Z"
      },
      {
        "duration": 3,
        "start_time": "2021-11-17T21:36:53.943Z"
      },
      {
        "duration": 3,
        "start_time": "2021-11-17T21:36:56.165Z"
      },
      {
        "duration": 4,
        "start_time": "2021-11-17T21:37:16.590Z"
      },
      {
        "duration": 3,
        "start_time": "2021-11-17T21:37:22.702Z"
      },
      {
        "duration": 4,
        "start_time": "2021-11-17T21:38:03.479Z"
      },
      {
        "duration": 3,
        "start_time": "2021-11-17T21:38:08.601Z"
      },
      {
        "duration": 3,
        "start_time": "2021-11-17T21:38:12.928Z"
      },
      {
        "duration": 3,
        "start_time": "2021-11-17T21:38:48.896Z"
      },
      {
        "duration": 2,
        "start_time": "2021-11-17T21:38:49.171Z"
      },
      {
        "duration": 4,
        "start_time": "2021-11-17T21:39:57.889Z"
      },
      {
        "duration": 3,
        "start_time": "2021-11-17T21:39:58.057Z"
      },
      {
        "duration": 3,
        "start_time": "2021-11-17T21:41:20.108Z"
      },
      {
        "duration": 3,
        "start_time": "2021-11-17T21:41:20.629Z"
      },
      {
        "duration": 3,
        "start_time": "2021-11-17T21:42:49.136Z"
      },
      {
        "duration": 3,
        "start_time": "2021-11-17T21:43:15.137Z"
      },
      {
        "duration": 4,
        "start_time": "2021-11-17T21:43:16.766Z"
      },
      {
        "duration": 4,
        "start_time": "2021-11-17T21:43:31.711Z"
      },
      {
        "duration": 3,
        "start_time": "2021-11-17T21:43:36.312Z"
      },
      {
        "duration": 4,
        "start_time": "2021-11-17T21:45:08.825Z"
      },
      {
        "duration": 4,
        "start_time": "2021-11-17T21:45:10.119Z"
      },
      {
        "duration": 4,
        "start_time": "2021-11-17T21:45:13.748Z"
      },
      {
        "duration": 3,
        "start_time": "2021-11-17T21:45:22.219Z"
      },
      {
        "duration": 3,
        "start_time": "2021-11-17T21:45:33.412Z"
      },
      {
        "duration": 2,
        "start_time": "2021-11-17T21:46:01.885Z"
      },
      {
        "duration": 3,
        "start_time": "2021-11-17T21:46:03.628Z"
      },
      {
        "duration": 107,
        "start_time": "2021-11-17T21:47:32.512Z"
      },
      {
        "duration": 103,
        "start_time": "2021-11-17T21:50:36.243Z"
      },
      {
        "duration": 3,
        "start_time": "2021-11-18T06:28:31.440Z"
      },
      {
        "duration": 3,
        "start_time": "2021-11-18T06:29:00.168Z"
      },
      {
        "duration": 3,
        "start_time": "2021-11-18T06:31:27.008Z"
      },
      {
        "duration": 2,
        "start_time": "2021-11-18T06:35:34.288Z"
      },
      {
        "duration": 2,
        "start_time": "2021-11-18T06:38:04.527Z"
      }
    ],
    "colab": {
      "provenance": []
    },
    "kernelspec": {
      "display_name": "base",
      "language": "python",
      "name": "python3"
    },
    "language_info": {
      "codemirror_mode": {
        "name": "ipython",
        "version": 3
      },
      "file_extension": ".py",
      "mimetype": "text/x-python",
      "name": "python",
      "nbconvert_exporter": "python",
      "pygments_lexer": "ipython3",
      "version": "3.13.5"
    },
    "toc": {
      "base_numbering": 1,
      "nav_menu": {},
      "number_sections": true,
      "sideBar": true,
      "skip_h1_title": false,
      "title_cell": "Table of Contents",
      "title_sidebar": "Contents",
      "toc_cell": false,
      "toc_position": {},
      "toc_section_display": true,
      "toc_window_display": true
    }
  },
  "nbformat": 4,
  "nbformat_minor": 0
}
